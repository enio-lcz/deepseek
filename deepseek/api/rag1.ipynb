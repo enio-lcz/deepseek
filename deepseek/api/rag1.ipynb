{
 "cells": [
  {
   "cell_type": "code",
   "execution_count": 1,
   "id": "7b02e00b-0964-4f7e-9699-3ea4189fda71",
   "metadata": {},
   "outputs": [
    {
     "name": "stdout",
     "output_type": "stream",
     "text": [
      "Looking in indexes: http://mirrors.aliyun.com/pypi/simple\n",
      "Collecting pymilvus==2.5.10 (from pymilvus[model]==2.5.10)\n",
      "  Downloading http://mirrors.aliyun.com/pypi/packages/b0/4b/847704930ad8ddd0d0975e9a3a5e3fe704f642debe97454135c2b9ee7081/pymilvus-2.5.10-py3-none-any.whl (227 kB)\n",
      "\u001b[2K     \u001b[90m━━━━━━━━━━━━━━━━━━━━━━━━━━━━━━━━━━━━━━━\u001b[0m \u001b[32m227.6/227.6 kB\u001b[0m \u001b[31m2.8 MB/s\u001b[0m eta \u001b[36m0:00:00\u001b[0ma \u001b[36m0:00:01\u001b[0m\n",
      "\u001b[?25hCollecting openai==1.82.0\n",
      "  Downloading http://mirrors.aliyun.com/pypi/packages/51/4b/a59464ee5f77822a81ee069b4021163a0174940a92685efc3cf8b4c443a3/openai-1.82.0-py3-none-any.whl (720 kB)\n",
      "\u001b[2K     \u001b[90m━━━━━━━━━━━━━━━━━━━━━━━━━━━━━━━━━━━━━━━\u001b[0m \u001b[32m720.4/720.4 kB\u001b[0m \u001b[31m4.8 MB/s\u001b[0m eta \u001b[36m0:00:00\u001b[0m00:01\u001b[0m00:01\u001b[0m\n",
      "\u001b[?25hCollecting requests==2.32.3\n",
      "  Downloading http://mirrors.aliyun.com/pypi/packages/f9/9b/335f9764261e915ed497fcdeb11df5dfd6f7bf257d4a6a2a686d80da4d54/requests-2.32.3-py3-none-any.whl (64 kB)\n",
      "\u001b[2K     \u001b[90m━━━━━━━━━━━━━━━━━━━━━━━━━━━━━━━━━━━━━━━━\u001b[0m \u001b[32m64.9/64.9 kB\u001b[0m \u001b[31m6.3 MB/s\u001b[0m eta \u001b[36m0:00:00\u001b[0m\n",
      "\u001b[?25hCollecting tqdm==4.67.1\n",
      "  Downloading http://mirrors.aliyun.com/pypi/packages/d0/30/dc54f88dd4a2b5dc8a0279bdd7270e735851848b762aeb1c1184ed1f6b14/tqdm-4.67.1-py3-none-any.whl (78 kB)\n",
      "\u001b[2K     \u001b[90m━━━━━━━━━━━━━━━━━━━━━━━━━━━━━━━━━━━━━━━━\u001b[0m \u001b[32m78.5/78.5 kB\u001b[0m \u001b[31m4.3 MB/s\u001b[0m eta \u001b[36m0:00:00\u001b[0m\n",
      "\u001b[?25hCollecting torch==2.7.0\n",
      "  Downloading http://mirrors.aliyun.com/pypi/packages/9c/58/2d245b6f1ef61cf11dfc4aceeaacbb40fea706ccebac3f863890c720ab73/torch-2.7.0-cp312-cp312-manylinux_2_28_x86_64.whl (865.0 MB)\n",
      "\u001b[2K     \u001b[90m━━━━━━━━━━━━━━━━━━━━━━━━━━━━━━━━━━━━━━━\u001b[0m \u001b[32m865.0/865.0 MB\u001b[0m \u001b[31m3.9 MB/s\u001b[0m eta \u001b[36m0:00:00\u001b[0m00:01\u001b[0m00:04\u001b[0m\n",
      "\u001b[?25hRequirement already satisfied: setuptools>69 in /root/miniconda3/lib/python3.12/site-packages (from pymilvus==2.5.10->pymilvus[model]==2.5.10) (69.5.1)\n",
      "Collecting grpcio<=1.67.1,>=1.49.1 (from pymilvus==2.5.10->pymilvus[model]==2.5.10)\n",
      "  Downloading http://mirrors.aliyun.com/pypi/packages/92/cf/1d4c3e93efa93223e06a5c83ac27e32935f998bc368e276ef858b8883154/grpcio-1.67.1-cp312-cp312-manylinux_2_17_x86_64.manylinux2014_x86_64.whl (5.9 MB)\n",
      "\u001b[2K     \u001b[90m━━━━━━━━━━━━━━━━━━━━━━━━━━━━━━━━━━━━━━━━\u001b[0m \u001b[32m5.9/5.9 MB\u001b[0m \u001b[31m6.4 MB/s\u001b[0m eta \u001b[36m0:00:00\u001b[0m00:01\u001b[0m00:01\u001b[0m\n",
      "\u001b[?25hRequirement already satisfied: protobuf>=3.20.0 in /root/miniconda3/lib/python3.12/site-packages (from pymilvus==2.5.10->pymilvus[model]==2.5.10) (5.28.3)\n",
      "Collecting python-dotenv<2.0.0,>=1.0.1 (from pymilvus==2.5.10->pymilvus[model]==2.5.10)\n",
      "  Downloading http://mirrors.aliyun.com/pypi/packages/5f/ed/539768cf28c661b5b068d66d96a2f155c4971a5d55684a514c1a0e0dec2f/python_dotenv-1.1.1-py3-none-any.whl (20 kB)\n",
      "Collecting ujson>=2.0.0 (from pymilvus==2.5.10->pymilvus[model]==2.5.10)\n",
      "  Downloading http://mirrors.aliyun.com/pypi/packages/04/81/668707e5f2177791869b624be4c06fb2473bf97ee33296b18d1cf3092af7/ujson-5.10.0-cp312-cp312-manylinux_2_17_x86_64.manylinux2014_x86_64.whl (53 kB)\n",
      "\u001b[2K     \u001b[90m━━━━━━━━━━━━━━━━━━━━━━━━━━━━━━━━━━━━━━━━\u001b[0m \u001b[32m53.7/53.7 kB\u001b[0m \u001b[31m20.3 MB/s\u001b[0m eta \u001b[36m0:00:00\u001b[0m\n",
      "\u001b[?25hCollecting pandas>=1.2.4 (from pymilvus==2.5.10->pymilvus[model]==2.5.10)\n",
      "  Downloading http://mirrors.aliyun.com/pypi/packages/01/a5/931fc3ad333d9d87b10107d948d757d67ebcfc33b1988d5faccc39c6845c/pandas-2.3.0-cp312-cp312-manylinux_2_17_x86_64.manylinux2014_x86_64.whl (12.0 MB)\n",
      "\u001b[2K     \u001b[90m━━━━━━━━━━━━━━━━━━━━━━━━━━━━━━━━━━━━━━━━\u001b[0m \u001b[32m12.0/12.0 MB\u001b[0m \u001b[31m5.9 MB/s\u001b[0m eta \u001b[36m0:00:00\u001b[0m00:01\u001b[0m00:01\u001b[0m\n",
      "\u001b[?25hCollecting milvus-lite>=2.4.0 (from pymilvus==2.5.10->pymilvus[model]==2.5.10)\n",
      "  Downloading http://mirrors.aliyun.com/pypi/packages/44/43/b3f6e9defd1f3927b972beac7abe3d5b4a3bdb287e3bad69618e2e76cf0a/milvus_lite-2.4.12-py3-none-manylinux2014_x86_64.whl (45.2 MB)\n",
      "\u001b[2K     \u001b[90m━━━━━━━━━━━━━━━━━━━━━━━━━━━━━━━━━━━━━━━━\u001b[0m \u001b[32m45.2/45.2 MB\u001b[0m \u001b[31m6.4 MB/s\u001b[0m eta \u001b[36m0:00:00\u001b[0m00:01\u001b[0m00:01\u001b[0m\n",
      "\u001b[?25hRequirement already satisfied: anyio<5,>=3.5.0 in /root/miniconda3/lib/python3.12/site-packages (from openai==1.82.0) (4.6.2.post1)\n",
      "Requirement already satisfied: distro<2,>=1.7.0 in /root/miniconda3/lib/python3.12/site-packages (from openai==1.82.0) (1.9.0)\n",
      "Requirement already satisfied: httpx<1,>=0.23.0 in /root/miniconda3/lib/python3.12/site-packages (from openai==1.82.0) (0.27.2)\n",
      "Collecting jiter<1,>=0.4.0 (from openai==1.82.0)\n",
      "  Downloading http://mirrors.aliyun.com/pypi/packages/e2/ba/77013b0b8ba904bf3762f11e0129b8928bff7f978a81838dfcc958ad5728/jiter-0.10.0-cp312-cp312-manylinux_2_17_x86_64.manylinux2014_x86_64.whl (352 kB)\n",
      "\u001b[2K     \u001b[90m━━━━━━━━━━━━━━━━━━━━━━━━━━━━━━━━━━━━━━━\u001b[0m \u001b[32m352.0/352.0 kB\u001b[0m \u001b[31m6.8 MB/s\u001b[0m eta \u001b[36m0:00:00\u001b[0ma \u001b[36m0:00:01\u001b[0m\n",
      "\u001b[?25hCollecting pydantic<3,>=1.9.0 (from openai==1.82.0)\n",
      "  Downloading http://mirrors.aliyun.com/pypi/packages/6a/c0/ec2b1c8712ca690e5d61979dee872603e92b8a32f94cc1b72d53beab008a/pydantic-2.11.7-py3-none-any.whl (444 kB)\n",
      "\u001b[2K     \u001b[90m━━━━━━━━━━━━━━━━━━━━━━━━━━━━━━━━━━━━━━━\u001b[0m \u001b[32m444.8/444.8 kB\u001b[0m \u001b[31m6.8 MB/s\u001b[0m eta \u001b[36m0:00:00\u001b[0ma \u001b[36m0:00:01\u001b[0m\n",
      "\u001b[?25hRequirement already satisfied: sniffio in /root/miniconda3/lib/python3.12/site-packages (from openai==1.82.0) (1.3.1)\n",
      "Requirement already satisfied: typing-extensions<5,>=4.11 in /root/miniconda3/lib/python3.12/site-packages (from openai==1.82.0) (4.12.2)\n",
      "Requirement already satisfied: charset-normalizer<4,>=2 in /root/miniconda3/lib/python3.12/site-packages (from requests==2.32.3) (2.0.4)\n",
      "Requirement already satisfied: idna<4,>=2.5 in /root/miniconda3/lib/python3.12/site-packages (from requests==2.32.3) (3.7)\n",
      "Requirement already satisfied: urllib3<3,>=1.21.1 in /root/miniconda3/lib/python3.12/site-packages (from requests==2.32.3) (2.1.0)\n",
      "Requirement already satisfied: certifi>=2017.4.17 in /root/miniconda3/lib/python3.12/site-packages (from requests==2.32.3) (2024.2.2)\n",
      "Requirement already satisfied: filelock in /root/miniconda3/lib/python3.12/site-packages (from torch==2.7.0) (3.16.1)\n",
      "Collecting sympy>=1.13.3 (from torch==2.7.0)\n",
      "  Downloading http://mirrors.aliyun.com/pypi/packages/a2/09/77d55d46fd61b4a135c444fc97158ef34a095e5681d0a6c10b75bf356191/sympy-1.14.0-py3-none-any.whl (6.3 MB)\n",
      "\u001b[2K     \u001b[90m━━━━━━━━━━━━━━━━━━━━━━━━━━━━━━━━━━━━━━━━\u001b[0m \u001b[32m6.3/6.3 MB\u001b[0m \u001b[31m6.7 MB/s\u001b[0m eta \u001b[36m0:00:00\u001b[0m00:01\u001b[0m00:01\u001b[0m\n",
      "\u001b[?25hRequirement already satisfied: networkx in /root/miniconda3/lib/python3.12/site-packages (from torch==2.7.0) (3.4.2)\n",
      "Requirement already satisfied: jinja2 in /root/miniconda3/lib/python3.12/site-packages (from torch==2.7.0) (3.1.4)\n",
      "Requirement already satisfied: fsspec in /root/miniconda3/lib/python3.12/site-packages (from torch==2.7.0) (2024.10.0)\n",
      "Collecting nvidia-cuda-nvrtc-cu12==12.6.77 (from torch==2.7.0)\n",
      "  Downloading http://mirrors.aliyun.com/pypi/packages/75/2e/46030320b5a80661e88039f59060d1790298b4718944a65a7f2aeda3d9e9/nvidia_cuda_nvrtc_cu12-12.6.77-py3-none-manylinux2014_x86_64.whl (23.7 MB)\n",
      "\u001b[2K     \u001b[90m━━━━━━━━━━━━━━━━━━━━━━━━━━━━━━━━━━━━━━━━\u001b[0m \u001b[32m23.7/23.7 MB\u001b[0m \u001b[31m6.5 MB/s\u001b[0m eta \u001b[36m0:00:00\u001b[0m00:01\u001b[0m00:01\u001b[0m\n",
      "\u001b[?25hCollecting nvidia-cuda-runtime-cu12==12.6.77 (from torch==2.7.0)\n",
      "  Downloading http://mirrors.aliyun.com/pypi/packages/e1/23/e717c5ac26d26cf39a27fbc076240fad2e3b817e5889d671b67f4f9f49c5/nvidia_cuda_runtime_cu12-12.6.77-py3-none-manylinux2014_x86_64.manylinux_2_17_x86_64.whl (897 kB)\n",
      "\u001b[2K     \u001b[90m━━━━━━━━━━━━━━━━━━━━━━━━━━━━━━━━━━━━━━━\u001b[0m \u001b[32m897.7/897.7 kB\u001b[0m \u001b[31m7.0 MB/s\u001b[0m eta \u001b[36m0:00:00\u001b[0ma \u001b[36m0:00:01\u001b[0m\n",
      "\u001b[?25hCollecting nvidia-cuda-cupti-cu12==12.6.80 (from torch==2.7.0)\n",
      "  Downloading http://mirrors.aliyun.com/pypi/packages/49/60/7b6497946d74bcf1de852a21824d63baad12cd417db4195fc1bfe59db953/nvidia_cuda_cupti_cu12-12.6.80-py3-none-manylinux2014_x86_64.manylinux_2_17_x86_64.whl (8.9 MB)\n",
      "\u001b[2K     \u001b[90m━━━━━━━━━━━━━━━━━━━━━━━━━━━━━━━━━━━━━━━━\u001b[0m \u001b[32m8.9/8.9 MB\u001b[0m \u001b[31m6.6 MB/s\u001b[0m eta \u001b[36m0:00:00\u001b[0m00:01\u001b[0m00:01\u001b[0m\n",
      "\u001b[?25hCollecting nvidia-cudnn-cu12==9.5.1.17 (from torch==2.7.0)\n",
      "  Downloading http://mirrors.aliyun.com/pypi/packages/2a/78/4535c9c7f859a64781e43c969a3a7e84c54634e319a996d43ef32ce46f83/nvidia_cudnn_cu12-9.5.1.17-py3-none-manylinux_2_28_x86_64.whl (571.0 MB)\n",
      "\u001b[2K     \u001b[90m━━━━━━━━━━━━━━━━━━━━━━━━━━━━━━━━━━━━━━━\u001b[0m \u001b[32m571.0/571.0 MB\u001b[0m \u001b[31m3.8 MB/s\u001b[0m eta \u001b[36m0:00:00\u001b[0m00:01\u001b[0m00:03\u001b[0m\n",
      "\u001b[?25hCollecting nvidia-cublas-cu12==12.6.4.1 (from torch==2.7.0)\n",
      "  Downloading http://mirrors.aliyun.com/pypi/packages/af/eb/ff4b8c503fa1f1796679dce648854d58751982426e4e4b37d6fce49d259c/nvidia_cublas_cu12-12.6.4.1-py3-none-manylinux2014_x86_64.manylinux_2_17_x86_64.whl (393.1 MB)\n",
      "\u001b[2K     \u001b[90m━━━━━━━━━━━━━━━━━━━━━━━━━━━━━━━━━━━━━━━\u001b[0m \u001b[32m393.1/393.1 MB\u001b[0m \u001b[31m4.6 MB/s\u001b[0m eta \u001b[36m0:00:00\u001b[0m00:01\u001b[0m00:02\u001b[0m\n",
      "\u001b[?25hCollecting nvidia-cufft-cu12==11.3.0.4 (from torch==2.7.0)\n",
      "  Downloading http://mirrors.aliyun.com/pypi/packages/8f/16/73727675941ab8e6ffd86ca3a4b7b47065edcca7a997920b831f8147c99d/nvidia_cufft_cu12-11.3.0.4-py3-none-manylinux2014_x86_64.manylinux_2_17_x86_64.whl (200.2 MB)\n",
      "\u001b[2K     \u001b[90m━━━━━━━━━━━━━━━━━━━━━━━━━━━━━━━━━━━━━━━\u001b[0m \u001b[32m200.2/200.2 MB\u001b[0m \u001b[31m5.9 MB/s\u001b[0m eta \u001b[36m0:00:00\u001b[0m00:01\u001b[0m00:01\u001b[0m\n",
      "\u001b[?25hCollecting nvidia-curand-cu12==10.3.7.77 (from torch==2.7.0)\n",
      "  Downloading http://mirrors.aliyun.com/pypi/packages/73/1b/44a01c4e70933637c93e6e1a8063d1e998b50213a6b65ac5a9169c47e98e/nvidia_curand_cu12-10.3.7.77-py3-none-manylinux2014_x86_64.manylinux_2_17_x86_64.whl (56.3 MB)\n",
      "\u001b[2K     \u001b[90m━━━━━━━━━━━━━━━━━━━━━━━━━━━━━━━━━━━━━━━━\u001b[0m \u001b[32m56.3/56.3 MB\u001b[0m \u001b[31m6.5 MB/s\u001b[0m eta \u001b[36m0:00:00\u001b[0m00:01\u001b[0m00:01\u001b[0m\n",
      "\u001b[?25hCollecting nvidia-cusolver-cu12==11.7.1.2 (from torch==2.7.0)\n",
      "  Downloading http://mirrors.aliyun.com/pypi/packages/f0/6e/c2cf12c9ff8b872e92b4a5740701e51ff17689c4d726fca91875b07f655d/nvidia_cusolver_cu12-11.7.1.2-py3-none-manylinux2014_x86_64.manylinux_2_17_x86_64.whl (158.2 MB)\n",
      "\u001b[2K     \u001b[90m━━━━━━━━━━━━━━━━━━━━━━━━━━━━━━━━━━━━━━━\u001b[0m \u001b[32m158.2/158.2 MB\u001b[0m \u001b[31m6.8 MB/s\u001b[0m eta \u001b[36m0:00:00\u001b[0m00:01\u001b[0m00:01\u001b[0m\n",
      "\u001b[?25hCollecting nvidia-cusparse-cu12==12.5.4.2 (from torch==2.7.0)\n",
      "  Downloading http://mirrors.aliyun.com/pypi/packages/06/1e/b8b7c2f4099a37b96af5c9bb158632ea9e5d9d27d7391d7eb8fc45236674/nvidia_cusparse_cu12-12.5.4.2-py3-none-manylinux2014_x86_64.manylinux_2_17_x86_64.whl (216.6 MB)\n",
      "\u001b[2K     \u001b[90m━━━━━━━━━━━━━━━━━━━━━━━━━━━━━━━━━━━━━━━\u001b[0m \u001b[32m216.6/216.6 MB\u001b[0m \u001b[31m7.0 MB/s\u001b[0m eta \u001b[36m0:00:00\u001b[0m00:01\u001b[0m00:01\u001b[0m\n",
      "\u001b[?25hCollecting nvidia-cusparselt-cu12==0.6.3 (from torch==2.7.0)\n",
      "  Downloading http://mirrors.aliyun.com/pypi/packages/3b/9a/72ef35b399b0e183bc2e8f6f558036922d453c4d8237dab26c666a04244b/nvidia_cusparselt_cu12-0.6.3-py3-none-manylinux2014_x86_64.whl (156.8 MB)\n",
      "\u001b[2K     \u001b[90m━━━━━━━━━━━━━━━━━━━━━━━━━━━━━━━━━━━━━━━\u001b[0m \u001b[32m156.8/156.8 MB\u001b[0m \u001b[31m7.4 MB/s\u001b[0m eta \u001b[36m0:00:00\u001b[0m00:01\u001b[0m00:01\u001b[0m\n",
      "\u001b[?25hCollecting nvidia-nccl-cu12==2.26.2 (from torch==2.7.0)\n",
      "  Downloading http://mirrors.aliyun.com/pypi/packages/67/ca/f42388aed0fddd64ade7493dbba36e1f534d4e6fdbdd355c6a90030ae028/nvidia_nccl_cu12-2.26.2-py3-none-manylinux2014_x86_64.manylinux_2_17_x86_64.whl (201.3 MB)\n",
      "\u001b[2K     \u001b[90m━━━━━━━━━━━━━━━━━━━━━━━━━━━━━━━━━━━━━━━\u001b[0m \u001b[32m201.3/201.3 MB\u001b[0m \u001b[31m7.8 MB/s\u001b[0m eta \u001b[36m0:00:00\u001b[0m00:01\u001b[0m00:01\u001b[0m\n",
      "\u001b[?25hCollecting nvidia-nvtx-cu12==12.6.77 (from torch==2.7.0)\n",
      "  Downloading http://mirrors.aliyun.com/pypi/packages/56/9a/fff8376f8e3d084cd1530e1ef7b879bb7d6d265620c95c1b322725c694f4/nvidia_nvtx_cu12-12.6.77-py3-none-manylinux2014_x86_64.manylinux_2_17_x86_64.whl (89 kB)\n",
      "\u001b[2K     \u001b[90m━━━━━━━━━━━━━━━━━━━━━━━━━━━━━━━━━━━━━━━━\u001b[0m \u001b[32m89.3/89.3 kB\u001b[0m \u001b[31m2.8 MB/s\u001b[0m eta \u001b[36m0:00:00\u001b[0m\n",
      "\u001b[?25hCollecting nvidia-nvjitlink-cu12==12.6.85 (from torch==2.7.0)\n",
      "  Downloading http://mirrors.aliyun.com/pypi/packages/9d/d7/c5383e47c7e9bf1c99d5bd2a8c935af2b6d705ad831a7ec5c97db4d82f4f/nvidia_nvjitlink_cu12-12.6.85-py3-none-manylinux2010_x86_64.manylinux_2_12_x86_64.whl (19.7 MB)\n",
      "\u001b[2K     \u001b[90m━━━━━━━━━━━━━━━━━━━━━━━━━━━━━━━━━━━━━━━━\u001b[0m \u001b[32m19.7/19.7 MB\u001b[0m \u001b[31m8.5 MB/s\u001b[0m eta \u001b[36m0:00:00\u001b[0m00:01\u001b[0m00:01\u001b[0m\n",
      "\u001b[?25hCollecting nvidia-cufile-cu12==1.11.1.6 (from torch==2.7.0)\n",
      "  Downloading http://mirrors.aliyun.com/pypi/packages/b2/66/cc9876340ac68ae71b15c743ddb13f8b30d5244af344ec8322b449e35426/nvidia_cufile_cu12-1.11.1.6-py3-none-manylinux2014_x86_64.manylinux_2_17_x86_64.whl (1.1 MB)\n",
      "\u001b[2K     \u001b[90m━━━━━━━━━━━━━━━━━━━━━━━━━━━━━━━━━━━━━━━━\u001b[0m \u001b[32m1.1/1.1 MB\u001b[0m \u001b[31m8.5 MB/s\u001b[0m eta \u001b[36m0:00:00\u001b[0ma \u001b[36m0:00:01\u001b[0mm\n",
      "\u001b[?25hCollecting triton==3.3.0 (from torch==2.7.0)\n",
      "  Downloading http://mirrors.aliyun.com/pypi/packages/11/53/ce18470914ab6cfbec9384ee565d23c4d1c55f0548160b1c7b33000b11fd/triton-3.3.0-cp312-cp312-manylinux_2_27_x86_64.manylinux_2_28_x86_64.whl (156.5 MB)\n",
      "\u001b[2K     \u001b[90m━━━━━━━━━━━━━━━━━━━━━━━━━━━━━━━━━━━━━━━\u001b[0m \u001b[32m156.5/156.5 MB\u001b[0m \u001b[31m7.3 MB/s\u001b[0m eta \u001b[36m0:00:00\u001b[0m00:01\u001b[0m00:01\u001b[0m\n",
      "\u001b[?25hCollecting pymilvus.model>=0.3.0 (from pymilvus[model]==2.5.10)\n",
      "  Downloading http://mirrors.aliyun.com/pypi/packages/5b/ba/b34e3f8c57c453c02daf1a1eff9c4b62a2e89fc10a29bc83fb685155fe14/pymilvus_model-0.3.2-py3-none-any.whl (47 kB)\n",
      "\u001b[2K     \u001b[90m━━━━━━━━━━━━━━━━━━━━━━━━━━━━━━━━━━━━━━━━\u001b[0m \u001b[32m47.7/47.7 kB\u001b[0m \u001b[31m21.4 MB/s\u001b[0m eta \u001b[36m0:00:00\u001b[0m\n",
      "\u001b[?25hRequirement already satisfied: httpcore==1.* in /root/miniconda3/lib/python3.12/site-packages (from httpx<1,>=0.23.0->openai==1.82.0) (1.0.7)\n",
      "Requirement already satisfied: h11<0.15,>=0.13 in /root/miniconda3/lib/python3.12/site-packages (from httpcore==1.*->httpx<1,>=0.23.0->openai==1.82.0) (0.14.0)\n",
      "Requirement already satisfied: numpy>=1.26.0 in /root/miniconda3/lib/python3.12/site-packages (from pandas>=1.2.4->pymilvus==2.5.10->pymilvus[model]==2.5.10) (2.1.3)\n",
      "Requirement already satisfied: python-dateutil>=2.8.2 in /root/miniconda3/lib/python3.12/site-packages (from pandas>=1.2.4->pymilvus==2.5.10->pymilvus[model]==2.5.10) (2.9.0.post0)\n",
      "Collecting pytz>=2020.1 (from pandas>=1.2.4->pymilvus==2.5.10->pymilvus[model]==2.5.10)\n",
      "  Downloading http://mirrors.aliyun.com/pypi/packages/81/c4/34e93fe5f5429d7570ec1fa436f1986fb1f00c3e0f43a589fe2bbcd22c3f/pytz-2025.2-py2.py3-none-any.whl (509 kB)\n",
      "\u001b[2K     \u001b[90m━━━━━━━━━━━━━━━━━━━━━━━━━━━━━━━━━━━━━━━\u001b[0m \u001b[32m509.2/509.2 kB\u001b[0m \u001b[31m8.3 MB/s\u001b[0m eta \u001b[36m0:00:00\u001b[0ma \u001b[36m0:00:01\u001b[0m\n",
      "\u001b[?25hCollecting tzdata>=2022.7 (from pandas>=1.2.4->pymilvus==2.5.10->pymilvus[model]==2.5.10)\n",
      "  Downloading http://mirrors.aliyun.com/pypi/packages/5c/23/c7abc0ca0a1526a0774eca151daeb8de62ec457e77262b66b359c3c7679e/tzdata-2025.2-py2.py3-none-any.whl (347 kB)\n",
      "\u001b[2K     \u001b[90m━━━━━━━━━━━━━━━━━━━━━━━━━━━━━━━━━━━━━━━\u001b[0m \u001b[32m347.8/347.8 kB\u001b[0m \u001b[31m8.8 MB/s\u001b[0m eta \u001b[36m0:00:00\u001b[0ma \u001b[36m0:00:01\u001b[0m\n",
      "\u001b[?25hCollecting annotated-types>=0.6.0 (from pydantic<3,>=1.9.0->openai==1.82.0)\n",
      "  Downloading http://mirrors.aliyun.com/pypi/packages/78/b6/6307fbef88d9b5ee7421e68d78a9f162e0da4900bc5f5793f6d3d0e34fb8/annotated_types-0.7.0-py3-none-any.whl (13 kB)\n",
      "Collecting pydantic-core==2.33.2 (from pydantic<3,>=1.9.0->openai==1.82.0)\n",
      "  Downloading http://mirrors.aliyun.com/pypi/packages/f9/41/4b043778cf9c4285d59742281a769eac371b9e47e35f98ad321349cc5d61/pydantic_core-2.33.2-cp312-cp312-manylinux_2_17_x86_64.manylinux2014_x86_64.whl (2.0 MB)\n",
      "\u001b[2K     \u001b[90m━━━━━━━━━━━━━━━━━━━━━━━━━━━━━━━━━━━━━━━━\u001b[0m \u001b[32m2.0/2.0 MB\u001b[0m \u001b[31m7.3 MB/s\u001b[0m eta \u001b[36m0:00:00\u001b[0ma \u001b[36m0:00:01\u001b[0m\n",
      "\u001b[?25hCollecting typing-inspection>=0.4.0 (from pydantic<3,>=1.9.0->openai==1.82.0)\n",
      "  Downloading http://mirrors.aliyun.com/pypi/packages/17/69/cd203477f944c353c31bade965f880aa1061fd6bf05ded0726ca845b6ff7/typing_inspection-0.4.1-py3-none-any.whl (14 kB)\n",
      "Collecting transformers>=4.36.0 (from pymilvus.model>=0.3.0->pymilvus[model]==2.5.10)\n",
      "  Downloading http://mirrors.aliyun.com/pypi/packages/96/f2/25b27b396af03d5b64e61976b14f7209e2939e9e806c10749b6d277c273e/transformers-4.52.4-py3-none-any.whl (10.5 MB)\n",
      "\u001b[2K     \u001b[90m━━━━━━━━━━━━━━━━━━━━━━━━━━━━━━━━━━━━━━━━\u001b[0m \u001b[32m10.5/10.5 MB\u001b[0m \u001b[31m7.4 MB/s\u001b[0m eta \u001b[36m0:00:00\u001b[0m00:01\u001b[0m00:01\u001b[0m\n",
      "\u001b[?25hCollecting onnxruntime (from pymilvus.model>=0.3.0->pymilvus[model]==2.5.10)\n",
      "  Downloading http://mirrors.aliyun.com/pypi/packages/8c/60/16d219b8868cc8e8e51a68519873bdb9f5f24af080b62e917a13fff9989b/onnxruntime-1.22.0-cp312-cp312-manylinux_2_27_x86_64.manylinux_2_28_x86_64.whl (16.4 MB)\n",
      "\u001b[2K     \u001b[90m━━━━━━━━━━━━━━━━━━━━━━━━━━━━━━━━━━━━━━━━\u001b[0m \u001b[32m16.4/16.4 MB\u001b[0m \u001b[31m7.4 MB/s\u001b[0m eta \u001b[36m0:00:00\u001b[0m00:01\u001b[0m00:01\u001b[0m\n",
      "\u001b[?25hCollecting scipy>=1.10.0 (from pymilvus.model>=0.3.0->pymilvus[model]==2.5.10)\n",
      "  Downloading http://mirrors.aliyun.com/pypi/packages/6d/f0/b6ac354a956384fd8abee2debbb624648125b298f2c4a7b4f0d6248048a5/scipy-1.16.0-cp312-cp312-manylinux2014_x86_64.manylinux_2_17_x86_64.whl (35.1 MB)\n",
      "\u001b[2K     \u001b[90m━━━━━━━━━━━━━━━━━━━━━━━━━━━━━━━━━━━━━━━━\u001b[0m \u001b[32m35.1/35.1 MB\u001b[0m \u001b[31m7.0 MB/s\u001b[0m eta \u001b[36m0:00:00\u001b[0m00:01\u001b[0m00:01\u001b[0m\n",
      "\u001b[?25hRequirement already satisfied: mpmath<1.4,>=1.1.0 in /root/miniconda3/lib/python3.12/site-packages (from sympy>=1.13.3->torch==2.7.0) (1.3.0)\n",
      "Requirement already satisfied: MarkupSafe>=2.0 in /root/miniconda3/lib/python3.12/site-packages (from jinja2->torch==2.7.0) (3.0.2)\n",
      "Requirement already satisfied: six>=1.5 in /root/miniconda3/lib/python3.12/site-packages (from python-dateutil>=2.8.2->pandas>=1.2.4->pymilvus==2.5.10->pymilvus[model]==2.5.10) (1.16.0)\n",
      "Collecting huggingface-hub<1.0,>=0.30.0 (from transformers>=4.36.0->pymilvus.model>=0.3.0->pymilvus[model]==2.5.10)\n",
      "  Downloading http://mirrors.aliyun.com/pypi/packages/33/fb/53587a89fbc00799e4179796f51b3ad713c5de6bb680b2becb6d37c94649/huggingface_hub-0.33.0-py3-none-any.whl (514 kB)\n",
      "\u001b[2K     \u001b[90m━━━━━━━━━━━━━━━━━━━━━━━━━━━━━━━━━━━━━━━\u001b[0m \u001b[32m514.8/514.8 kB\u001b[0m \u001b[31m7.3 MB/s\u001b[0m eta \u001b[36m0:00:00\u001b[0m00:01\u001b[0m00:01\u001b[0m\n",
      "\u001b[?25hRequirement already satisfied: packaging>=20.0 in /root/miniconda3/lib/python3.12/site-packages (from transformers>=4.36.0->pymilvus.model>=0.3.0->pymilvus[model]==2.5.10) (23.2)\n",
      "Requirement already satisfied: pyyaml>=5.1 in /root/miniconda3/lib/python3.12/site-packages (from transformers>=4.36.0->pymilvus.model>=0.3.0->pymilvus[model]==2.5.10) (6.0.2)\n",
      "Collecting regex!=2019.12.17 (from transformers>=4.36.0->pymilvus.model>=0.3.0->pymilvus[model]==2.5.10)\n",
      "  Downloading http://mirrors.aliyun.com/pypi/packages/fb/13/e3b075031a738c9598c51cfbc4c7879e26729c53aa9cca59211c44235314/regex-2024.11.6-cp312-cp312-manylinux_2_17_x86_64.manylinux2014_x86_64.whl (796 kB)\n",
      "\u001b[2K     \u001b[90m━━━━━━━━━━━━━━━━━━━━━━━━━━━━━━━━━━━━━━━\u001b[0m \u001b[32m796.9/796.9 kB\u001b[0m \u001b[31m7.0 MB/s\u001b[0m eta \u001b[36m0:00:00\u001b[0ma \u001b[36m0:00:01\u001b[0m\n",
      "\u001b[?25hCollecting tokenizers<0.22,>=0.21 (from transformers>=4.36.0->pymilvus.model>=0.3.0->pymilvus[model]==2.5.10)\n",
      "  Downloading http://mirrors.aliyun.com/pypi/packages/c5/74/f41a432a0733f61f3d21b288de6dfa78f7acff309c6f0f323b2833e9189f/tokenizers-0.21.2-cp39-abi3-manylinux_2_17_x86_64.manylinux2014_x86_64.whl (3.1 MB)\n",
      "\u001b[2K     \u001b[90m━━━━━━━━━━━━━━━━━━━━━━━━━━━━━━━━━━━━━━━━\u001b[0m \u001b[32m3.1/3.1 MB\u001b[0m \u001b[31m7.4 MB/s\u001b[0m eta \u001b[36m0:00:00\u001b[0m00:01\u001b[0m00:01\u001b[0m\n",
      "\u001b[?25hCollecting safetensors>=0.4.3 (from transformers>=4.36.0->pymilvus.model>=0.3.0->pymilvus[model]==2.5.10)\n",
      "  Downloading http://mirrors.aliyun.com/pypi/packages/a6/f8/dae3421624fcc87a89d42e1898a798bc7ff72c61f38973a65d60df8f124c/safetensors-0.5.3-cp38-abi3-manylinux_2_17_x86_64.manylinux2014_x86_64.whl (471 kB)\n",
      "\u001b[2K     \u001b[90m━━━━━━━━━━━━━━━━━━━━━━━━━━━━━━━━━━━━━━━\u001b[0m \u001b[32m471.6/471.6 kB\u001b[0m \u001b[31m7.8 MB/s\u001b[0m eta \u001b[36m0:00:00\u001b[0ma \u001b[36m0:00:01\u001b[0m\n",
      "\u001b[?25hCollecting coloredlogs (from onnxruntime->pymilvus.model>=0.3.0->pymilvus[model]==2.5.10)\n",
      "  Downloading http://mirrors.aliyun.com/pypi/packages/a7/06/3d6badcf13db419e25b07041d9c7b4a2c331d3f4e7134445ec5df57714cd/coloredlogs-15.0.1-py2.py3-none-any.whl (46 kB)\n",
      "\u001b[2K     \u001b[90m━━━━━━━━━━━━━━━━━━━━━━━━━━━━━━━━━━━━━━━━\u001b[0m \u001b[32m46.0/46.0 kB\u001b[0m \u001b[31m20.7 MB/s\u001b[0m eta \u001b[36m0:00:00\u001b[0m\n",
      "\u001b[?25hCollecting flatbuffers (from onnxruntime->pymilvus.model>=0.3.0->pymilvus[model]==2.5.10)\n",
      "  Downloading http://mirrors.aliyun.com/pypi/packages/b8/25/155f9f080d5e4bc0082edfda032ea2bc2b8fab3f4d25d46c1e9dd22a1a89/flatbuffers-25.2.10-py2.py3-none-any.whl (30 kB)\n",
      "Collecting hf-xet<2.0.0,>=1.1.2 (from huggingface-hub<1.0,>=0.30.0->transformers>=4.36.0->pymilvus.model>=0.3.0->pymilvus[model]==2.5.10)\n",
      "  Downloading http://mirrors.aliyun.com/pypi/packages/6d/2f/6cad7b5fe86b7652579346cb7f85156c11761df26435651cbba89376cd2c/hf_xet-1.1.5-cp37-abi3-manylinux_2_17_x86_64.manylinux2014_x86_64.whl (3.1 MB)\n",
      "\u001b[2K     \u001b[90m━━━━━━━━━━━━━━━━━━━━━━━━━━━━━━━━━━━━━━━━\u001b[0m \u001b[32m3.1/3.1 MB\u001b[0m \u001b[31m7.1 MB/s\u001b[0m eta \u001b[36m0:00:00\u001b[0ma \u001b[36m0:00:01\u001b[0m\n",
      "\u001b[?25hCollecting humanfriendly>=9.1 (from coloredlogs->onnxruntime->pymilvus.model>=0.3.0->pymilvus[model]==2.5.10)\n",
      "  Downloading http://mirrors.aliyun.com/pypi/packages/f0/0f/310fb31e39e2d734ccaa2c0fb981ee41f7bd5056ce9bc29b2248bd569169/humanfriendly-10.0-py2.py3-none-any.whl (86 kB)\n",
      "\u001b[2K     \u001b[90m━━━━━━━━━━━━━━━━━━━━━━━━━━━━━━━━━━━━━━━━\u001b[0m \u001b[32m86.8/86.8 kB\u001b[0m \u001b[31m5.8 MB/s\u001b[0m eta \u001b[36m0:00:00\u001b[0m\n",
      "\u001b[?25hInstalling collected packages: pytz, nvidia-cusparselt-cu12, flatbuffers, ujson, tzdata, typing-inspection, triton, tqdm, sympy, scipy, safetensors, requests, regex, python-dotenv, pydantic-core, nvidia-nvtx-cu12, nvidia-nvjitlink-cu12, nvidia-nccl-cu12, nvidia-curand-cu12, nvidia-cufile-cu12, nvidia-cuda-runtime-cu12, nvidia-cuda-nvrtc-cu12, nvidia-cuda-cupti-cu12, nvidia-cublas-cu12, jiter, humanfriendly, hf-xet, grpcio, annotated-types, pydantic, pandas, nvidia-cusparse-cu12, nvidia-cufft-cu12, nvidia-cudnn-cu12, milvus-lite, huggingface-hub, coloredlogs, tokenizers, pymilvus, openai, onnxruntime, nvidia-cusolver-cu12, transformers, torch, pymilvus.model\n",
      "  Attempting uninstall: triton\n",
      "    Found existing installation: triton 3.1.0\n",
      "    Uninstalling triton-3.1.0:\n",
      "      Successfully uninstalled triton-3.1.0\n",
      "  Attempting uninstall: tqdm\n",
      "    Found existing installation: tqdm 4.66.2\n",
      "    Uninstalling tqdm-4.66.2:\n",
      "      Successfully uninstalled tqdm-4.66.2\n",
      "  Attempting uninstall: sympy\n",
      "    Found existing installation: sympy 1.13.1\n",
      "    Uninstalling sympy-1.13.1:\n",
      "      Successfully uninstalled sympy-1.13.1\n",
      "  Attempting uninstall: requests\n",
      "    Found existing installation: requests 2.31.0\n",
      "    Uninstalling requests-2.31.0:\n",
      "      Successfully uninstalled requests-2.31.0\n",
      "  Attempting uninstall: nvidia-nvtx-cu12\n",
      "    Found existing installation: nvidia-nvtx-cu12 12.4.127\n",
      "    Uninstalling nvidia-nvtx-cu12-12.4.127:\n",
      "      Successfully uninstalled nvidia-nvtx-cu12-12.4.127\n",
      "  Attempting uninstall: nvidia-nvjitlink-cu12\n",
      "    Found existing installation: nvidia-nvjitlink-cu12 12.4.127\n",
      "    Uninstalling nvidia-nvjitlink-cu12-12.4.127:\n",
      "      Successfully uninstalled nvidia-nvjitlink-cu12-12.4.127\n",
      "  Attempting uninstall: nvidia-nccl-cu12\n",
      "    Found existing installation: nvidia-nccl-cu12 2.21.5\n",
      "    Uninstalling nvidia-nccl-cu12-2.21.5:\n",
      "      Successfully uninstalled nvidia-nccl-cu12-2.21.5\n",
      "  Attempting uninstall: nvidia-curand-cu12\n",
      "    Found existing installation: nvidia-curand-cu12 10.3.5.147\n",
      "    Uninstalling nvidia-curand-cu12-10.3.5.147:\n",
      "      Successfully uninstalled nvidia-curand-cu12-10.3.5.147\n",
      "  Attempting uninstall: nvidia-cuda-runtime-cu12\n",
      "    Found existing installation: nvidia-cuda-runtime-cu12 12.4.127\n",
      "    Uninstalling nvidia-cuda-runtime-cu12-12.4.127:\n",
      "      Successfully uninstalled nvidia-cuda-runtime-cu12-12.4.127\n",
      "  Attempting uninstall: nvidia-cuda-nvrtc-cu12\n",
      "    Found existing installation: nvidia-cuda-nvrtc-cu12 12.4.127\n",
      "    Uninstalling nvidia-cuda-nvrtc-cu12-12.4.127:\n",
      "      Successfully uninstalled nvidia-cuda-nvrtc-cu12-12.4.127\n",
      "  Attempting uninstall: nvidia-cuda-cupti-cu12\n",
      "    Found existing installation: nvidia-cuda-cupti-cu12 12.4.127\n",
      "    Uninstalling nvidia-cuda-cupti-cu12-12.4.127:\n",
      "      Successfully uninstalled nvidia-cuda-cupti-cu12-12.4.127\n",
      "  Attempting uninstall: nvidia-cublas-cu12\n",
      "    Found existing installation: nvidia-cublas-cu12 12.4.5.8\n",
      "    Uninstalling nvidia-cublas-cu12-12.4.5.8:\n",
      "      Successfully uninstalled nvidia-cublas-cu12-12.4.5.8\n",
      "  Attempting uninstall: grpcio\n",
      "    Found existing installation: grpcio 1.68.0\n",
      "    Uninstalling grpcio-1.68.0:\n",
      "      Successfully uninstalled grpcio-1.68.0\n",
      "  Attempting uninstall: nvidia-cusparse-cu12\n",
      "    Found existing installation: nvidia-cusparse-cu12 12.3.1.170\n",
      "    Uninstalling nvidia-cusparse-cu12-12.3.1.170:\n",
      "      Successfully uninstalled nvidia-cusparse-cu12-12.3.1.170\n",
      "  Attempting uninstall: nvidia-cufft-cu12\n",
      "    Found existing installation: nvidia-cufft-cu12 11.2.1.3\n",
      "    Uninstalling nvidia-cufft-cu12-11.2.1.3:\n",
      "      Successfully uninstalled nvidia-cufft-cu12-11.2.1.3\n",
      "  Attempting uninstall: nvidia-cudnn-cu12\n",
      "    Found existing installation: nvidia-cudnn-cu12 9.1.0.70\n",
      "    Uninstalling nvidia-cudnn-cu12-9.1.0.70:\n",
      "      Successfully uninstalled nvidia-cudnn-cu12-9.1.0.70\n",
      "  Attempting uninstall: nvidia-cusolver-cu12\n",
      "    Found existing installation: nvidia-cusolver-cu12 11.6.1.9\n",
      "    Uninstalling nvidia-cusolver-cu12-11.6.1.9:\n",
      "      Successfully uninstalled nvidia-cusolver-cu12-11.6.1.9\n",
      "  Attempting uninstall: torch\n",
      "    Found existing installation: torch 2.5.1+cu124\n",
      "    Uninstalling torch-2.5.1+cu124:\n",
      "      Successfully uninstalled torch-2.5.1+cu124\n",
      "\u001b[31mERROR: pip's dependency resolver does not currently take into account all the packages that are installed. This behaviour is the source of the following dependency conflicts.\n",
      "torchvision 0.20.1+cu124 requires torch==2.5.1, but you have torch 2.7.0 which is incompatible.\u001b[0m\u001b[31m\n",
      "\u001b[0mSuccessfully installed annotated-types-0.7.0 coloredlogs-15.0.1 flatbuffers-25.2.10 grpcio-1.67.1 hf-xet-1.1.5 huggingface-hub-0.33.0 humanfriendly-10.0 jiter-0.10.0 milvus-lite-2.4.12 nvidia-cublas-cu12-12.6.4.1 nvidia-cuda-cupti-cu12-12.6.80 nvidia-cuda-nvrtc-cu12-12.6.77 nvidia-cuda-runtime-cu12-12.6.77 nvidia-cudnn-cu12-9.5.1.17 nvidia-cufft-cu12-11.3.0.4 nvidia-cufile-cu12-1.11.1.6 nvidia-curand-cu12-10.3.7.77 nvidia-cusolver-cu12-11.7.1.2 nvidia-cusparse-cu12-12.5.4.2 nvidia-cusparselt-cu12-0.6.3 nvidia-nccl-cu12-2.26.2 nvidia-nvjitlink-cu12-12.6.85 nvidia-nvtx-cu12-12.6.77 onnxruntime-1.22.0 openai-1.82.0 pandas-2.3.0 pydantic-2.11.7 pydantic-core-2.33.2 pymilvus-2.5.10 pymilvus.model-0.3.2 python-dotenv-1.1.1 pytz-2025.2 regex-2024.11.6 requests-2.32.3 safetensors-0.5.3 scipy-1.16.0 sympy-1.14.0 tokenizers-0.21.2 torch-2.7.0 tqdm-4.67.1 transformers-4.52.4 triton-3.3.0 typing-inspection-0.4.1 tzdata-2025.2 ujson-5.10.0\n",
      "\u001b[33mWARNING: Running pip as the 'root' user can result in broken permissions and conflicting behaviour with the system package manager. It is recommended to use a virtual environment instead: https://pip.pypa.io/warnings/venv\u001b[0m\u001b[33m\n",
      "\u001b[0m"
     ]
    }
   ],
   "source": [
    "!pip install \"pymilvus[model]==2.5.10\" openai==1.82.0 requests==2.32.3 tqdm==4.67.1 torch==2.7.0"
   ]
  },
  {
   "cell_type": "code",
   "execution_count": 2,
   "id": "ebe6bdb0-39f5-4375-ac32-24e74ea8a899",
   "metadata": {},
   "outputs": [
    {
     "name": "stdout",
     "output_type": "stream",
     "text": [
      "Looking in indexes: http://mirrors.aliyun.com/pypi/simple\n",
      "Requirement already satisfied: torchvision in /root/miniconda3/lib/python3.12/site-packages (0.20.1+cu124)\n",
      "Collecting torchvision\n",
      "  Downloading http://mirrors.aliyun.com/pypi/packages/17/8b/155f99042f9319bd7759536779b2a5b67cbd4f89c380854670850f89a2f4/torchvision-0.22.1-cp312-cp312-manylinux_2_28_x86_64.whl (7.5 MB)\n",
      "\u001b[2K     \u001b[90m━━━━━━━━━━━━━━━━━━━━━━━━━━━━━━━━━━━━━━━━\u001b[0m \u001b[32m7.5/7.5 MB\u001b[0m \u001b[31m7.9 MB/s\u001b[0m eta \u001b[36m0:00:00\u001b[0m00:01\u001b[0m00:01\u001b[0m\n",
      "\u001b[?25hRequirement already satisfied: numpy in /root/miniconda3/lib/python3.12/site-packages (from torchvision) (2.1.3)\n",
      "Collecting torch==2.7.1 (from torchvision)\n",
      "  Downloading http://mirrors.aliyun.com/pypi/packages/56/7e/67c3fe2b8c33f40af06326a3d6ae7776b3e3a01daa8f71d125d78594d874/torch-2.7.1-cp312-cp312-manylinux_2_28_x86_64.whl (821.0 MB)\n",
      "\u001b[2K     \u001b[90m━━━━━━━━━━━━━━━━━━━━━━━━━━━━━━━━━━━━━━━\u001b[0m \u001b[32m821.0/821.0 MB\u001b[0m \u001b[31m4.5 MB/s\u001b[0m eta \u001b[36m0:00:00\u001b[0m00:01\u001b[0m00:03\u001b[0m\n",
      "\u001b[?25hRequirement already satisfied: pillow!=8.3.*,>=5.3.0 in /root/miniconda3/lib/python3.12/site-packages (from torchvision) (11.0.0)\n",
      "Requirement already satisfied: filelock in /root/miniconda3/lib/python3.12/site-packages (from torch==2.7.1->torchvision) (3.16.1)\n",
      "Requirement already satisfied: typing-extensions>=4.10.0 in /root/miniconda3/lib/python3.12/site-packages (from torch==2.7.1->torchvision) (4.12.2)\n",
      "Requirement already satisfied: setuptools in /root/miniconda3/lib/python3.12/site-packages (from torch==2.7.1->torchvision) (69.5.1)\n",
      "Requirement already satisfied: sympy>=1.13.3 in /root/miniconda3/lib/python3.12/site-packages (from torch==2.7.1->torchvision) (1.14.0)\n",
      "Requirement already satisfied: networkx in /root/miniconda3/lib/python3.12/site-packages (from torch==2.7.1->torchvision) (3.4.2)\n",
      "Requirement already satisfied: jinja2 in /root/miniconda3/lib/python3.12/site-packages (from torch==2.7.1->torchvision) (3.1.4)\n",
      "Requirement already satisfied: fsspec in /root/miniconda3/lib/python3.12/site-packages (from torch==2.7.1->torchvision) (2024.10.0)\n",
      "Requirement already satisfied: nvidia-cuda-nvrtc-cu12==12.6.77 in /root/miniconda3/lib/python3.12/site-packages (from torch==2.7.1->torchvision) (12.6.77)\n",
      "Requirement already satisfied: nvidia-cuda-runtime-cu12==12.6.77 in /root/miniconda3/lib/python3.12/site-packages (from torch==2.7.1->torchvision) (12.6.77)\n",
      "Requirement already satisfied: nvidia-cuda-cupti-cu12==12.6.80 in /root/miniconda3/lib/python3.12/site-packages (from torch==2.7.1->torchvision) (12.6.80)\n",
      "Requirement already satisfied: nvidia-cudnn-cu12==9.5.1.17 in /root/miniconda3/lib/python3.12/site-packages (from torch==2.7.1->torchvision) (9.5.1.17)\n",
      "Requirement already satisfied: nvidia-cublas-cu12==12.6.4.1 in /root/miniconda3/lib/python3.12/site-packages (from torch==2.7.1->torchvision) (12.6.4.1)\n",
      "Requirement already satisfied: nvidia-cufft-cu12==11.3.0.4 in /root/miniconda3/lib/python3.12/site-packages (from torch==2.7.1->torchvision) (11.3.0.4)\n",
      "Requirement already satisfied: nvidia-curand-cu12==10.3.7.77 in /root/miniconda3/lib/python3.12/site-packages (from torch==2.7.1->torchvision) (10.3.7.77)\n",
      "Requirement already satisfied: nvidia-cusolver-cu12==11.7.1.2 in /root/miniconda3/lib/python3.12/site-packages (from torch==2.7.1->torchvision) (11.7.1.2)\n",
      "Requirement already satisfied: nvidia-cusparse-cu12==12.5.4.2 in /root/miniconda3/lib/python3.12/site-packages (from torch==2.7.1->torchvision) (12.5.4.2)\n",
      "Requirement already satisfied: nvidia-cusparselt-cu12==0.6.3 in /root/miniconda3/lib/python3.12/site-packages (from torch==2.7.1->torchvision) (0.6.3)\n",
      "Requirement already satisfied: nvidia-nccl-cu12==2.26.2 in /root/miniconda3/lib/python3.12/site-packages (from torch==2.7.1->torchvision) (2.26.2)\n",
      "Requirement already satisfied: nvidia-nvtx-cu12==12.6.77 in /root/miniconda3/lib/python3.12/site-packages (from torch==2.7.1->torchvision) (12.6.77)\n",
      "Requirement already satisfied: nvidia-nvjitlink-cu12==12.6.85 in /root/miniconda3/lib/python3.12/site-packages (from torch==2.7.1->torchvision) (12.6.85)\n",
      "Requirement already satisfied: nvidia-cufile-cu12==1.11.1.6 in /root/miniconda3/lib/python3.12/site-packages (from torch==2.7.1->torchvision) (1.11.1.6)\n",
      "Collecting triton==3.3.1 (from torch==2.7.1->torchvision)\n",
      "  Downloading http://mirrors.aliyun.com/pypi/packages/24/5f/950fb373bf9c01ad4eb5a8cd5eaf32cdf9e238c02f9293557a2129b9c4ac/triton-3.3.1-cp312-cp312-manylinux_2_27_x86_64.manylinux_2_28_x86_64.whl (155.7 MB)\n",
      "\u001b[2K     \u001b[90m━━━━━━━━━━━━━━━━━━━━━━━━━━━━━━━━━━━━━━━\u001b[0m \u001b[32m155.7/155.7 MB\u001b[0m \u001b[31m8.0 MB/s\u001b[0m eta \u001b[36m0:00:00\u001b[0m00:01\u001b[0m00:01\u001b[0m\n",
      "\u001b[?25hRequirement already satisfied: mpmath<1.4,>=1.1.0 in /root/miniconda3/lib/python3.12/site-packages (from sympy>=1.13.3->torch==2.7.1->torchvision) (1.3.0)\n",
      "Requirement already satisfied: MarkupSafe>=2.0 in /root/miniconda3/lib/python3.12/site-packages (from jinja2->torch==2.7.1->torchvision) (3.0.2)\n",
      "Installing collected packages: triton, torch, torchvision\n",
      "  Attempting uninstall: triton\n",
      "    Found existing installation: triton 3.3.0\n",
      "    Uninstalling triton-3.3.0:\n",
      "      Successfully uninstalled triton-3.3.0\n",
      "  Attempting uninstall: torch\n",
      "    Found existing installation: torch 2.7.0\n",
      "    Uninstalling torch-2.7.0:\n",
      "      Successfully uninstalled torch-2.7.0\n",
      "  Attempting uninstall: torchvision\n",
      "    Found existing installation: torchvision 0.20.1+cu124\n",
      "    Uninstalling torchvision-0.20.1+cu124:\n",
      "      Successfully uninstalled torchvision-0.20.1+cu124\n",
      "Successfully installed torch-2.7.1 torchvision-0.22.1 triton-3.3.1\n",
      "\u001b[33mWARNING: Running pip as the 'root' user can result in broken permissions and conflicting behaviour with the system package manager. It is recommended to use a virtual environment instead: https://pip.pypa.io/warnings/venv\u001b[0m\u001b[33m\n",
      "\u001b[0m"
     ]
    }
   ],
   "source": [
    "!pip install --upgrade torchvision"
   ]
  },
  {
   "cell_type": "code",
   "execution_count": 1,
   "id": "e7b41906-9d50-48eb-bd4a-7768f7741a80",
   "metadata": {},
   "outputs": [],
   "source": [
    "import os\n",
    "from openai import OpenAI\n",
    "\n",
    "os.environ[\"DEEPSEEK_API_KEY\"] = \"sk-XXX\"\n",
    "os.environ['http_proxy'] = 'http://127.0.0.1:15732'\n",
    "os.environ['https_proxy'] = 'http://127.0.0.1:15732'\n",
    "\n",
    "api_key = os.getenv(\"DEEPSEEK_API_KEY\")\n",
    "if not api_key:\n",
    "    raise ValueError(\"环境变量未设置。\")\n",
    "\n",
    "# 初始化 OpenAI 客户端（假设 DeepSeek 的 API 兼容 OpenAI 格式）\n",
    "client = OpenAI(\n",
    "    api_key=api_key,\n",
    "    base_url=\"https://api.deepseek.com/v1\",  # DeepSeek API 的基地址\n",
    ")"
   ]
  },
  {
   "cell_type": "code",
   "execution_count": 2,
   "id": "0be62e78-7a1b-4b39-a7d4-6519c38b2f69",
   "metadata": {},
   "outputs": [
    {
     "name": "stderr",
     "output_type": "stream",
     "text": [
      "/root/miniconda3/envs/deepseek/lib/python3.13/site-packages/tqdm/auto.py:21: TqdmWarning: IProgress not found. Please update jupyter and ipywidgets. See https://ipywidgets.readthedocs.io/en/stable/user_install.html\n",
      "  from .autonotebook import tqdm as notebook_tqdm\n"
     ]
    }
   ],
   "source": [
    "from pymilvus import model as milvus_model\n",
    "embedding_model = milvus_model.DefaultEmbeddingFunction()"
   ]
  },
  {
   "cell_type": "code",
   "execution_count": 3,
   "id": "aedda2fb-0227-46a6-8055-4a02591dd57f",
   "metadata": {},
   "outputs": [],
   "source": [
    "from glob import glob\n",
    "\n",
    "text_lines = []\n",
    "\n",
    "for file_path in glob(\"milvus_docs/en/faq/*.md\", recursive=True):\n",
    "    with open(file_path, \"r\") as file:\n",
    "        file_text = file.read()\n",
    "\n",
    "    text_lines += file_text.split(\"# \")"
   ]
  },
  {
   "cell_type": "code",
   "execution_count": 4,
   "id": "91fcbe36-f7a0-4596-9978-da26665924e8",
   "metadata": {},
   "outputs": [
    {
     "data": {
      "text/plain": [
       "['---\\nid: operational_faq.md\\nsummary: Find answers to commonly asked questions about operations in Milvus.\\ntitle: Operational FAQ\\n---\\n\\n',\n",
       " 'Operational FAQ\\n\\n<!-- TOC -->\\n\\n\\n<!-- /TOC -->\\n\\n###',\n",
       " 'What if I failed to pull the Milvus Docker image from Docker Hub?\\n\\nIf you failed to pull the Milvus Docker image from Docker Hub, try adding other registry mirrors. \\n\\nUsers from Mainland China can add the URL \"https://registry.docker-cn.com\" to the registry-mirrors array in **/etc.docker/daemon.json**.\\n\\n```\\n{\\n  \"registry-mirrors\": [\"https://registry.docker-cn.com\"]\\n}\\n```\\n\\n###',\n",
       " 'Is Docker the only way to install and run Milvus?\\n\\nDocker is an efficient way to deploy Milvus, but not the only way. You can also deploy Milvus from source code. This requires Ubuntu (18.04 or higher) or CentOS (7 or higher). See [Building Milvus from Source Code](https://github.com/milvus-io/milvus#build-milvus-from-source-code) for more information.\\n\\n###',\n",
       " 'What are the main factors affecting recall?\\n\\nRecall is affected mainly by index type and search parameters.\\n\\nFor FLAT index, Milvus takes an exhaustive scan within a collection, with a 100% return.\\n\\nFor IVF indexes, the nprobe parameter determines the scope of a search within the collection. Increasing nprobe increases the proportion of vectors searched and recall, but diminishes query performance.\\n\\nFor HNSW index, the ef parameter determines the breadth of the graph search. Increasing ef increases the number of points searched on the graph and recall, but diminishes query performance.\\n\\nFor more information, see [Vector Indexing](https://www.zilliz.com/blog/Accelerating-Similarity-Search-on-Really-Big-Data-with-Vector-Indexing).\\n\\n###',\n",
       " 'Why did my changes to the configuration files not take effect?\\n\\nMilvus does not support modification to configuration files during runtime. You must restart Milvus Docker for configuration file changes to take effect.\\n\\n###',\n",
       " 'How do I know if Milvus has started successfully?\\n\\nIf Milvus is started using Docker Compose, run `docker ps` to observe how many Docker containers are running and check if Milvus services started correctly.\\n\\nFor Milvus standalone, you should be able to observe at least three running Docker containers, one being the Milvus service and the other two being etcd management and storage service. For more information, see [Installing Milvus Standalone](install_standalone-docker.md).\\n\\n###',\n",
       " 'Why is the time in the log files different from the system time?\\n\\nThe time difference is usually due to the fact that the host machine does not use Coordinated Universal Time (UTC).\\n\\nThe log files inside the Docker image use UTC by default. If your host machine does not use UTC, this issue may occur.\\n\\n\\n###',\n",
       " 'How do I know if my CPU supports Milvus?\\n\\n{{fragments/cpu_support.md}}\\n\\n###',\n",
       " 'Why does Milvus return `illegal instruction` during startup?\\n\\nMilvus requires your CPU to support a SIMD instruction set: SSE4.2, AVX, AVX2, or AVX512. CPU must support at least one of these to ensure that Milvus operates normally. An `illegal instruction` error returned during startup suggests that your CPU does not support any of the above four instruction sets.\\n\\nSee [CPU’s support for SIMD Instruction Set](prerequisite-docker.md).\\n\\n###',\n",
       " 'Can I install Milvus on Windows?\\n\\nYes. You can install Milvus on Windows either by compiling from source code or from a binary package. \\n\\nSee [Run Milvus on Windows](https://milvus.io/blog/2021-11-19-run-milvus-2.0-on-windows.md) to learn how to install Milvus on Windows.\\n\\n###',\n",
       " 'I got an error when installing pymilvus on Windows. What shall I do?\\n\\nIt is not recommended to install PyMilvus on Windows. But if you have to install PyMilvus on Windows but got an error, try installing it in a [Conda](https://docs.conda.io/projects/conda/en/latest/user-guide/install/index.html) environment. See [Install Milvus SDK](install-pymilvus.md) for more information about how to install PyMilvus in the Conda environment.\\n\\n###',\n",
       " 'Can I deploy Milvus when disconnected from the Internet?\\n\\nYes. You can install Milvus in an offline environment. See [Install Milvus Offline](install_offline-helm.md) for more information.\\n\\n###',\n",
       " \"Where can I find the logs generated by Milvus?\\n\\nThe Milvus log is printed to stout (standard output) and stderr (standard error) by default, however we highly recommend redirecting your log to a persistent volume in production. To do so, update `log.file.rootPath` in **milvus.yaml**. And if you deploy Milvus with `milvus-helm` chart, you also need to enable log persistence first via `--set log.persistence.enabled=true`. \\n\\nIf you didn't change the config, using kubectl logs <pod-name> or docker logs CONTAINER can also help you to find the log.\\n\\n\\n###\",\n",
       " 'Can I create index for a segment before inserting data into it?\\n\\nYes, you can. But we recommend inserting data in batches, each of which should not exceed 256 MB, before indexing each segment.\\n\\n###',\n",
       " 'Can I share an etcd instance among multiple Milvus instances?\\n\\nYes, you can share an etcd instance among multiple Milvus instances. To do so, you need to change `etcd.rootPath` to a separate value for each Milvus instance in the configuration files of each before starting them.\\n\\n###',\n",
       " 'Can I share a Pulsar instance among multiple Milvus instances?\\n\\nYes, you can share a Pulsar instance among multiple Milvus instances. To do so, you can\\n\\n- If multi-tenancy is enabled on your Pulsar instance, consider allocating a separate tenant or namespace for each Milvus instance. To do so, you need to change `pulsar.tenant` or `pulsar.namespace` in the configuration files of your Milvus instances to a unique value for each before starting them.\\n- If you do not plan on enabling multi-tenancy on your Pulsar instance, consider changing `msgChannel.chanNamePrefix.cluster` in the configuration files of your Milvus instances to a unique value for each before starting them.\\n\\n###',\n",
       " 'Can I share a MinIO instance among multiple Milvus instances?\\n\\nYes, you can share a MinIO instance among multiple Milvus instances. To do so, you need to change `minio.rootPath` to a unique value for each Milvus instance in the configuration files of each before starting them.\\n\\n###',\n",
       " 'Still have questions?\\n\\nYou can:\\n\\n- Check out [Milvus](https://github.com/milvus-io/milvus/issues) on GitHub. Feel free to ask questions, share ideas, and help others.\\n- Join our [Milvus Forum](https://discuss.milvus.io/) or [Slack Channel](https://join.slack.com/t/milvusio/shared_invite/enQtNzY1OTQ0NDI3NjMzLWNmYmM1NmNjOTQ5MGI5NDhhYmRhMGU5M2NhNzhhMDMzY2MzNDdlYjM5ODQ5MmE3ODFlYzU3YjJkNmVlNDQ2ZTk) to find support and engage with our open-source community.\\n',\n",
       " '---\\nid: troubleshooting.md\\nsummary: Learn about common issues you may encounter with Milvus and how to overcome them.\\ntitle: Troubleshooting\\n---\\n',\n",
       " 'Troubleshooting\\nThis page lists common issues that may occur when running Milvus, as well as possible troubleshooting tips. Issues on this page fall into the following categories:\\n\\n- [Boot issues](#boot_issues)\\n- [Runtime issues](#runtime_issues)\\n- [API issues](#api_issues)\\n- [etcd crash issues](#etcd_crash_issues)\\n\\n\\n  #',\n",
       " 'Boot issues\\n\\n  Boot errors are usually fatal. Run the following command to view error details:\\n\\n  ```\\n  $ docker logs <your milvus container id>\\n  ```\\n\\n\\n  #',\n",
       " 'Runtime issues\\n\\n  Errors that occur during runtime may cause service breakdown. To troubleshoot this issue, check compatibility between the server and your client before moving forward.\\n\\n\\n  #',\n",
       " 'API issues\\n\\n  These issues occur during API method calls between the Milvus server and your client. They will be returned to the client synchronously or asynchronously.\\n  \\n\\n  #',\n",
       " 'etcd crash issues\\n  \\n  ##',\n",
       " '1. etcd pod pending\\n\\n  The etcd cluster uses pvc by default. StorageClass needs to be preconfigured for the Kubernetes cluster.\\n\\n  ##',\n",
       " '2. etcd pod crash\\n\\n  When an etcd pod crashes with `Error: bad member ID arg (strconv.ParseUint: parsing \"\": invalid syntax), expecting ID in Hex`, you can log into this pod and delete the `/bitnami/etcd/data/member_id` file.\\n\\n  ##',\n",
       " '3. Multiple pods keep crashing while `etcd-0` is still running\\n\\n  You can run the following code if multiple pods keeps crashing while `etcd-0` is still running.\\n  \\n  ```\\n  kubectl scale sts <etcd-sts> --replicas=1\\n  ',\n",
       " 'delete the pvc for etcd-1 and etcd-2\\n  kubectl scale sts <etcd-sts> --replicas=3\\n  ```\\n  \\n  ##',\n",
       " '4. All pods crash\\n  \\n  When all pods crash, try copying the `/bitnami/etcd/data/member/snap/db` file. Use `https://github.com/etcd-io/bbolt` to modify database data.\\n\\n  All Milvus metadata are kept in the `key` bucket. Back up the data in this bucket and run the following commands. Note that the prefix data in the `by-dev/meta/session` file does not require a backup.\\n  \\n  ```\\n  kubectl kubectl scale sts <etcd-sts> --replicas=0\\n  ',\n",
       " 'delete the pvc for etcd-0, etcd-1, etcd-2\\n  kubectl kubectl scale sts <etcd-sts> --replicas=1\\n  ',\n",
       " 'restore the backup data\\n  ```\\n\\n\\n\\n<br/>\\n\\n  If you need help solving a problem, feel free to:\\n\\n  - Join our [Slack channel](https://join.slack.com/t/milvusio/shared_invite/enQtNzY1OTQ0NDI3NjMzLWNmYmM1NmNjOTQ5MGI5NDhhYmRhMGU5M2NhNzhhMDMzY2MzNDdlYjM5ODQ5MmE3ODFlYzU3YjJkNmVlNDQ2ZTk) and reach out for support from the Milvus team.\\n  - [File an Issue](https://github.com/milvus-io/milvus/issues/new/choose) on GitHub that includes details about your problem.\\n\\n',\n",
       " '---\\nid: performance_faq.md\\nsummary: Find answers to frequently asked questions about search performance, performance enhancements, and other performance related issues.\\ntitle: Performance FAQ\\n---\\n\\n',\n",
       " 'Performance FAQ\\n\\n<!-- TOC -->\\n\\n\\n<!-- /TOC -->\\n\\n###',\n",
       " 'How to set `nlist` and `nprobe` for IVF indexes?\\n\\nSetting `nlist` is scenario-specific. As a rule of thumb, the recommended value of `nlist` is `4 × sqrt(n)`, where `n` is the total number of entities in a segment.\\n\\nThe size of each segment is determined by the `datacoord.segment.maxSize` parameter, which is set to 512 MB by default. The total number of entities in a segment n can be estimated by dividing `datacoord.segment.maxSize` by the size of each entity.\\n\\nSetting `nprobe` is specific to the dataset and scenario, and involves a trade-off between accuracy and query performance. We recommend finding the ideal value through repeated experimentation.\\n\\nThe following charts are results from a test running on the sift50m dataset and IVF_SQ8 index, which compares recall and query performance of different `nlist`/`nprobe` pairs.\\n\\n![Accuracy test](../../../assets/accuracy_nlist_nprobe.png \"Accuracy test.\")\\n![Performance test](../../../assets/performance_nlist_nprobe.png \"Performance test.\")\\n\\n###',\n",
       " 'Why do queries sometimes take longer on smaller datasets?\\n\\nQuery operations are conducted on segments. indexes reduce the amount of time it takes to query a segment. If a segment has not been indexed, Milvus resorts to brute-force search on the raw data—drastically increasing query time.\\n\\nTherefore, it usually takes longer to query on a small dataset (collection) because it has not built index. This is because the sizes of its segments have not reached the index-building threshold set by `rootCoord.minSegmentSizeToEnableindex`. Call `create_index()` to force Milvus to index segments that have reached the threshold but not yet been automatically indexed, significantly improving query performance.\\n\\n\\n###',\n",
       " 'What factors impact CPU usage?\\n\\nCPU usage increases when Milvus is building indexes or running queries. In general, index building is CPU intensive except when using Annoy, which runs on a single thread.\\n\\nWhen running queries, CPU usage is affected by `nq` and `nprobe`. When `nq` and `nprobe` are small, concurrency is low and CPU usage stays low.\\n\\n###',\n",
       " 'Does simultaneously inserting data and searching impact query performance?\\n\\nInsert operations are not CPU intensive. However, because new segments may not have reached the threshold for index building, Milvus resorts to brute-force search—significantly impacting query performance.\\n\\nThe `rootcoord.minSegmentSizeToEnableIndex` parameter determines the index-building threshold for a segment, and is set to 1024 rows by default. See [System Configuration](system_configuration.md) for more information.\\n\\n###',\n",
       " 'Still have questions?\\n\\nYou can:\\n\\n- Check out [Milvus](https://github.com/milvus-io/milvus/issues) on GitHub. Feel free to ask questions, share ideas, and help others.\\n- Join our [Slack Channel](https://join.slack.com/t/milvusio/shared_invite/enQtNzY1OTQ0NDI3NjMzLWNmYmM1NmNjOTQ5MGI5NDhhYmRhMGU5M2NhNzhhMDMzY2MzNDdlYjM5ODQ5MmE3ODFlYzU3YjJkNmVlNDQ2ZTk) to find support and engage with our open-source community.\\n',\n",
       " \"---\\nid: product_faq.md\\nsummary: Find answers to frequently asked questions about the world's most advanced vector database.\\ntitle: Product FAQ\\n---\\n\\n\",\n",
       " 'Product FAQ\\n\\n<!-- TOC -->\\n\\n\\n\\n<!-- /TOC -->\\n\\n###',\n",
       " \"How much does Milvus cost?\\n\\nMilvus is a 100% free open-source project.\\n\\nPlease adhere to [Apache License 2.0](http://www.apache.org/licenses/LICENSE-2.0) when using Milvus for production or distribution purposes.\\n\\nZilliz, the company behind Milvus, also offers a fully managed cloud version of the platform for those that don't want to build and maintain their own distributed instance. [Zilliz Cloud](https://zilliz.com/cloud) automatically maintains data reliability and allows users to pay only for what they use.\\n\\n###\",\n",
       " 'Does Milvus support non-x86 architectures?\\n\\nMilvus cannot be installed or run on non-x86 platforms.\\n\\nYour CPU must support one of the following instruction sets to run Milvus: SSE4.2, AVX, AVX2, AVX512. These are all x86-dedicated SIMD instruction sets.\\n\\n###',\n",
       " 'What is the maximum dataset size Milvus can handle?\\n\\n  \\nTheoretically, the maximum dataset size Milvus can handle is determined by the hardware it is run on, specifically system memory and storage:\\n\\n- Milvus loads all specified collections and partitions into memory before running queries. Therefore, memory size determines the maximum amount of data Milvus can query.\\n- When new entities and and collection-related schema (currently only MinIO is supported for data persistence) are added to Milvus, system storage determines the maximum allowable size of inserted data.\\n\\n###',\n",
       " ' Where does Milvus store data?\\n\\nMilvus deals with two types of data, inserted data and metadata. \\n\\nInserted data, including vector data, scalar data, and collection-specific schema, are stored in persistent storage as incremental log. Milvus supports multiple object storage backends, including [MinIO](https://min.io/), [AWS S3](https://aws.amazon.com/s3/?nc1=h_ls), [Google Cloud Storage](https://cloud.google.com/storage?hl=en#object-storage-for-companies-of-all-sizes) (GCS), [Azure Blob Storage](https://azure.microsoft.com/en-us/products/storage/blobs), [Alibaba Cloud OSS](https://www.alibabacloud.com/product/object-storage-service), and [Tencent Cloud Object Storage](https://www.tencentcloud.com/products/cos) (COS).\\n\\nMetadata are generated within Milvus. Each Milvus module has its own metadata that are stored in etcd.\\n\\n###',\n",
       " 'Why is there no vector data in etcd?\\n\\netcd stores Milvus module metadata; MinIO stores entities.\\n\\n###',\n",
       " 'Does Milvus support inserting and searching data simultaneously?\\n\\nYes. Insert operations and query operations are handled by two separate modules that are mutually independent. From the client’s perspective, an insert operation is complete when the inserted data enters the message queue. However, inserted data are unsearchable until they are loaded to the query node. If the segment size does not reach the index-building threshold (512 MB by default), Milvus resorts to brute-force search and query performance may be diminished.\\n\\n###',\n",
       " 'Can vectors with duplicate primary keys be inserted into Milvus?\\n\\nYes. Milvus does not check if vector primary keys are duplicates.\\n\\n###',\n",
       " \"When vectors with duplicate primary keys are inserted, does Milvus treat it as an update operation?\\n\\nNo. Milvus does not currently support update operations and does not check if entity primary keys are duplicates. You are responsible for ensuring entity primary keys are unique, and if they aren't Milvus may contain multiple entities with duplicate primary keys.\\n\\nIf this occurs, which data copy will return when queried remains an unknown behavior. This limitation will be fixed in future releases.\\n\\n###\",\n",
       " 'What is the maximum length of self-defined entity primary keys?\\n\\nEntity primary keys must be non-negative 64-bit integers.\\n\\n###',\n",
       " 'What is the maximum amount of data that can be added per insert operation?\\n\\nAn insert operation must not exceed 1,024 MB in size. This is a limit imposed by gRPC.\\n\\n###',\n",
       " 'Does collection size impact query performance when searching in a specific partition?\\n\\nNo. If partitions for a search are specified, Milvus searches the specified partitions only.\\n\\n###',\n",
       " 'Does Milvus load the entire collection when partitions are specified for a search?\\n\\nNo. Milvus has varied behavior. Data must be loaded to memory before searching.\\n\\n- If you know which partitions your data are located in, call `load_partition()` to load the intended partition(s) *then* specify partition(s) in the `search()` method call.\\n- If you do not know the exact partitions, call `load_collection()` before calling `search()`.\\n- If you fail to load collections or partitions before searching, Milvus returns an error.\\n\\n###',\n",
       " 'Can indexes be created after inserting vectors?\\n\\nYes. If an index has been built for a collection by `create_index()` before, Milvus will automatically build an index for subsequently inserted vectors. However, Milvus does not build an index until the newly inserted vectors fill an entire segment and the newly created index file is separate from the previous one.\\n\\n###',\n",
       " 'How are the FLAT and IVF_FLAT indexes different?\\n\\nThe IVF_FLAT index divides vector space into list clusters. At the default list value of 16,384, Milvus compares the distances between the target vector and the centroids of all 16,384 clusters to return probe nearest clusters. Milvus then compares the distances between the target vector and the vectors in the selected clusters to get the nearest vectors. Unlike IVF_FLAT, FLAT directly compares the distances between the target vector and every other vector.\\n\\nWhen the total number of vectors approximately equals nlist, there is little distance between IVF_FLAT and FLAT in terms of calculation requirements and search performance. However, as the number of vectors exceeds nlist by a factor of two or more, IVF_FLAT begins to demonstrate performance advantages.\\n\\nSee [Vector Index](index.md) for more information.\\n\\n###',\n",
       " \"How does Milvus flush data?\\n\\nMilvus returns success when inserted data are loaded to the message queue. However, the data are not yet flushed to the disk. Then Milvus' data node writes the data in the message queue to persistent storage as incremental logs. If `flush()` is called, the data node is forced to write all data in the message queue to persistent storage immediately.\\n\\n###\",\n",
       " 'What is normalization? Why is normalization needed?\\n\\nNormalization refers to the process of converting a vector so that its norm equals 1. If inner product is used to calculate vector similarity, vectors must be normalized. After normalization, inner product equals cosine similarity.\\n\\nSee [Wikipedia](https://en.wikipedia.org/wiki/Unit_vector) for more information.\\n\\n###',\n",
       " 'Why do Euclidean distance (L2) and inner product (IP) return different results?\\n\\nFor normalized vectors, Euclidean distance (L2) is mathematically equivalent to inner product (IP). If these similarity metrics return different results, check to see if your vectors are normalized\\n\\n###',\n",
       " \"Is there a limit to the total number of collections and partitions in Milvus?\\n\\nYes. You can create up to 65,535 collections in a Milvus instance. When calculating the number of existing collections, Milvus counts all collections with shards and partitions in them.\\n\\nFor example, let's assume you have already created 100 collections, with 2 shards and 4 partitions in 60 of them and with 1 shard and 12 partitions in the rest 40 collections. The current number of collections can be calculated as:\\n\\n```\\n60 * 2 * 4 + 40 * 1 * 12 = 960\\n```\\n\\n###\",\n",
       " 'Why do I get fewer than k vectors when searching for `topk` vectors?\\n\\nAmong the indexes that Milvus supports, IVF_FLAT and IVF_SQ8 implement the k-means clustering method. A data space is divided into `nlist` clusters and the inserted vectors are distributed to these clusters. Milvus then selects the `nprobe` nearest clusters and compares the distances between the target vector and all vectors in the selected clusters to return the final results.\\n\\nIf `nlist` and `topk` are large and nprobe is small, the number of vectors in the nprobe clusters may be less than `k`. Therefore, when you search for the `topk` nearest vectors, the number of returned vectors is less than `k`.\\n\\nTo avoid this, try setting `nprobe` larger and `nlist` and `k` smaller.\\n\\nSee [Vector Index](index.md) for more information.\\n\\n###',\n",
       " 'What is the maximum vector dimension supported in Milvus?\\n\\nMilvus can manage vectors with up to 32,768 dimensions by default. You can increase the value of `Proxy.maxDimension` to allow for a larger dimension vector.\\n\\n###',\n",
       " 'Does Milvus support Apple M1 CPU?\\n\\nCurrent Milvus release does not support Apple M1 CPU.\\n\\n###',\n",
       " 'What data types does Milvus support on the primary key field?\\n\\nIn current release, Milvus supports both INT64 and string.\\n\\n###',\n",
       " 'Is Milvus scalable?\\n\\nYes. You can deploy Milvus cluster with multiple nodes via Helm Chart on Kubernetes. Refer to [Scale Guide](scaleout.md) for more instruction.\\n\\n###',\n",
       " 'Does the query perform in memory? What are incremental data and historical data?\\n\\nYes. When a query request comes, Milvus searches both incremental data and historical data by loading them into memory. Incremental data are in the growing segments, which are buffered in memory before they reach the threshold to be persisted in storage engine, while historical data are from the sealed segments that are stored in the object storage. Incremental data and historical data together constitute the whole dataset to search.\\n\\n###',\n",
       " 'Is Milvus available for concurrent search?\\n\\nYes. For queries on the same collection, Milvus concurrently searches the incremental and historical data. However, queries on different collections are conducted in series. Whereas the historical data can be an extremely huge dataset, searches on the historical data are relatively more time-consuming and essentially performed in series.\\n\\n###',\n",
       " 'Why does the data in MinIO remain after the corresponding collection is dropped?\\n\\nData in MinIO is designed to remain for a certain period of time for the convenience of data rollback.\\n\\n###',\n",
       " 'Does Milvus support message engines other than Pulsar?\\n\\nYes. Kafka is supported in Milvus 2.1.0.\\n\\n###',\n",
       " \"What's the difference between a search and a query?\\n\\nIn Milvus, a vector similarity search retrieves vectors based on similarity calculation and vector index acceleration. Unlike a vector similarity search, a vector query retrieves vectors via scalar filtering based on a boolean expression. The boolean expression filters on scalar fields or the primary key field, and it retrieves all results that match the filters. In a query, neither similarity metrics nor vector index is involved.\\n\\n###\",\n",
       " 'Why does a float vector value have a precision of 7 decimal digits in Milvus?\\n\\nMilvus supports storing vectors as Float32 arrays. A Float32 value has a precision of 7 decimal digits. Even with a Float64 value, such as 1.3476964684980388, Milvus stores it as 1.347696. Therefore, when you retrieve such a vector from Milvus, the precision of the Float64 value is lost.\\n\\n###',\n",
       " 'How does Milvus handle vector data types and precision?\\n\\nMilvus supports Binary, Float32, Float16, and BFloat16 vector types.\\n\\n- Binary vectors: Store binary data as sequences of 0s and 1s, used in image processing and information retrieval.\\n- Float32 vectors: Default storage with a precision of about 7 decimal digits. Even Float64 values are stored with Float32 precision, leading to potential precision loss upon retrieval.\\n- Float16 and BFloat16 vectors: Offer reduced precision and memory usage. Float16 is suitable for applications with limited bandwidth and storage, while BFloat16 balances range and efficiency, commonly used in deep learning to reduce computational requirements without significantly impacting accuracy.\\n\\n###',\n",
       " \"Still have questions?\\n\\nYou can:\\n\\n- Check out [Milvus](https://github.com/milvus-io/milvus/issues) on GitHub. You're welcome to raise questions, share ideas, and help others.\\n- Join our [Slack community](https://slack.milvus.io/) to find support and engage with our open-source community.\\n\\n\"]"
      ]
     },
     "execution_count": 4,
     "metadata": {},
     "output_type": "execute_result"
    }
   ],
   "source": [
    "text_lines"
   ]
  },
  {
   "cell_type": "code",
   "execution_count": 5,
   "id": "bbd405a6-6621-4475-9c2e-db1ebf3c221c",
   "metadata": {},
   "outputs": [
    {
     "data": {
      "text/plain": [
       "72"
      ]
     },
     "execution_count": 5,
     "metadata": {},
     "output_type": "execute_result"
    }
   ],
   "source": [
    "len(text_lines)"
   ]
  },
  {
   "cell_type": "code",
   "execution_count": 6,
   "id": "8b972703-75d4-416c-ba36-e936f4637ef5",
   "metadata": {},
   "outputs": [],
   "source": [
    "test_embedding = embedding_model.encode_queries([\"This is a test\"])[0]"
   ]
  },
  {
   "cell_type": "code",
   "execution_count": 7,
   "id": "dead6dc9-5675-4bb9-b2f1-2499820c0aa8",
   "metadata": {},
   "outputs": [],
   "source": [
    "embedding_dim = len(test_embedding)"
   ]
  },
  {
   "cell_type": "code",
   "execution_count": 8,
   "id": "10d02e35-015a-4fae-866c-690703bd83a3",
   "metadata": {},
   "outputs": [
    {
     "data": {
      "text/plain": [
       "array([-0.04836059,  0.07163021, -0.01130063, -0.03789341, -0.03320651,\n",
       "       -0.01318453, -0.03041721, -0.02269495, -0.02317858, -0.00426026])"
      ]
     },
     "execution_count": 8,
     "metadata": {},
     "output_type": "execute_result"
    }
   ],
   "source": [
    "test_embedding[:10]"
   ]
  },
  {
   "cell_type": "code",
   "execution_count": 9,
   "id": "3eea5267-af33-45f9-b371-2151d7fcb01a",
   "metadata": {},
   "outputs": [
    {
     "data": {
      "text/plain": [
       "768"
      ]
     },
     "execution_count": 9,
     "metadata": {},
     "output_type": "execute_result"
    }
   ],
   "source": [
    "embedding_dim"
   ]
  },
  {
   "cell_type": "code",
   "execution_count": 10,
   "id": "665894c3-79d4-46bf-8ba5-b1de3d3efae7",
   "metadata": {},
   "outputs": [],
   "source": [
    "from pymilvus import MilvusClient"
   ]
  },
  {
   "cell_type": "code",
   "execution_count": 11,
   "id": "a353607a-b8c0-4b90-aca2-1f05a83c4931",
   "metadata": {},
   "outputs": [],
   "source": [
    "milvus_client = MilvusClient(uri=\"./milvus_demo.db\")"
   ]
  },
  {
   "cell_type": "code",
   "execution_count": 12,
   "id": "4c4ba8b5-2293-4fdb-8e58-4669a33c37cb",
   "metadata": {},
   "outputs": [],
   "source": [
    "collection_name = \"my_rag_collection\""
   ]
  },
  {
   "cell_type": "code",
   "execution_count": 13,
   "id": "360ea455-17df-43f3-89c9-550359578241",
   "metadata": {},
   "outputs": [],
   "source": [
    "if milvus_client.has_collection(collection_name):\n",
    "    milvus_client.drop_collection(collection_name)"
   ]
  },
  {
   "cell_type": "code",
   "execution_count": 14,
   "id": "8015e099-722c-425c-8c1d-fb84437ebf20",
   "metadata": {},
   "outputs": [],
   "source": [
    "milvus_client.create_collection(\n",
    "    collection_name = collection_name,\n",
    "    dimension = embedding_dim,\n",
    "    metric_type = \"IP\",\n",
    "    consistency_level = \"Strong\"\n",
    ")"
   ]
  },
  {
   "cell_type": "code",
   "execution_count": 16,
   "id": "5bf5a576-7415-4075-b7b8-9bfc2f2bda4e",
   "metadata": {},
   "outputs": [],
   "source": [
    "from tqdm import tqdm\n",
    "\n",
    "data = []\n",
    "\n",
    "doc_embedding = embedding_model.encode_documents(text_lines)"
   ]
  },
  {
   "cell_type": "code",
   "execution_count": 18,
   "id": "9f66333d-d907-4234-9da1-51042e0b3558",
   "metadata": {},
   "outputs": [
    {
     "data": {
      "text/plain": [
       "72"
      ]
     },
     "execution_count": 18,
     "metadata": {},
     "output_type": "execute_result"
    }
   ],
   "source": [
    "len(doc_embedding)"
   ]
  },
  {
   "cell_type": "code",
   "execution_count": 19,
   "id": "78cf0bc8-e778-40b4-9064-b9e39fa38b7b",
   "metadata": {},
   "outputs": [
    {
     "data": {
      "text/plain": [
       "array([ 1.28629205e-04,  9.50984764e-03,  3.78965116e-02, -1.31957016e-03,\n",
       "        4.86818419e-02, -1.77866653e-02, -2.05826216e-02,  3.56480573e-02,\n",
       "       -4.36797322e-02,  7.17917954e-02, -3.91992810e-03,  2.67383417e-02,\n",
       "        2.62380532e-02, -1.87382457e-02, -2.32359010e-02,  3.05984821e-02,\n",
       "        1.49528957e-02,  4.36279254e-02, -3.71568681e-03, -3.15629626e-02,\n",
       "        2.17469770e-02,  6.17977649e-02,  1.55630627e-02, -4.18078993e-02,\n",
       "       -1.58273267e-02,  1.24400120e-02, -2.53897930e-02,  6.63223600e-02,\n",
       "        6.61497886e-04, -3.29214855e-02,  3.31547845e-02,  1.36909594e-02,\n",
       "       -6.55912751e-03, -4.14940531e-02,  2.52623136e-02, -8.62837963e-02,\n",
       "        2.84314709e-02,  9.32847186e-03, -1.49590893e-03,  2.21915429e-02,\n",
       "        1.05225587e-02, -1.91952450e-03, -1.36171466e-02,  2.37180633e-03,\n",
       "       -2.19319513e-02, -2.97123563e-02,  5.02410550e-02,  2.97803774e-02,\n",
       "        5.13433802e-02,  3.87284313e-03, -1.67401802e-02, -1.29172451e-02,\n",
       "        4.09373296e-02, -2.06904010e-02, -2.93476927e-03, -2.05529606e-02,\n",
       "        2.98215079e-02,  4.36536681e-02, -1.29266924e-02, -8.31498012e-04,\n",
       "        3.69353901e-02, -4.03094277e-03,  3.00167232e-03,  1.70645044e-02,\n",
       "       -6.07584662e-02, -4.04849331e-02,  5.85201317e-03, -4.10162267e-02,\n",
       "        1.10113174e-02,  3.04196433e-02, -2.23327147e-02,  3.11637004e-02,\n",
       "        2.56856911e-02,  9.07760067e-02, -4.21062789e-02,  3.26842700e-02,\n",
       "        1.49330282e-02,  5.85344137e-02, -2.18737551e-02,  1.58222569e-03,\n",
       "        4.45347176e-02, -3.23538644e-02, -3.72242188e-02,  6.03192453e-02,\n",
       "        3.34059289e-02,  2.15638649e-02, -5.68240652e-02, -2.85257424e-03,\n",
       "        8.55216059e-05,  1.10402157e-02,  1.58525235e-02, -4.94546113e-02,\n",
       "       -4.72923274e-02, -4.79249002e-02,  3.48935810e-02,  3.12909707e-02,\n",
       "        1.52288025e-02, -9.88798913e-03,  2.50980135e-03, -2.00664090e-03,\n",
       "        5.79474891e-03, -7.41551852e-02,  5.52116133e-02, -7.19045487e-03,\n",
       "       -7.78072962e-03, -3.09566163e-02, -7.80180194e-04, -3.63004287e-02,\n",
       "       -8.59889103e-02, -6.36766101e-03, -2.64868792e-02, -5.03269297e-02,\n",
       "        3.11265486e-02,  9.66820627e-03,  7.47894166e-02, -5.87866138e-02,\n",
       "        4.13267175e-02, -3.78894449e-02,  3.28495472e-02, -6.88209101e-03,\n",
       "       -4.82983275e-02,  9.18384769e-02,  4.24872813e-02,  2.59395388e-02,\n",
       "        9.68089384e-02,  2.77291923e-02, -1.06326624e-02, -1.27592205e-02,\n",
       "        4.51230283e-02,  5.07195547e-02,  4.26169620e-02,  4.28911573e-02,\n",
       "        2.19170420e-02,  1.35980827e-02, -4.47558190e-02,  2.80308394e-02,\n",
       "       -3.00193245e-02,  3.58335854e-03, -2.69530152e-02, -5.30990787e-02,\n",
       "        2.98689971e-02,  9.23581017e-03,  7.96101654e-03,  3.41527960e-02,\n",
       "        3.24987021e-04, -6.75789622e-02, -8.26697042e-03, -6.33759680e-02,\n",
       "       -1.49879048e-02,  1.43679631e-03, -2.17497762e-02,  4.88529906e-02,\n",
       "        8.29408076e-03,  3.09005853e-02, -4.88434734e-02, -5.48705553e-03,\n",
       "        1.17885314e-02, -4.56476147e-02, -1.30150896e-02, -9.45127189e-03,\n",
       "        1.86538617e-03,  1.23804602e-02,  5.31172632e-03,  3.05547945e-02,\n",
       "       -1.79504818e-02, -3.17791298e-02, -2.44633691e-02, -3.82056213e-02,\n",
       "        3.41295476e-02,  6.25216622e-02,  1.07752200e-02, -1.70051108e-02,\n",
       "        2.91721841e-02,  1.79081587e-02, -3.52544117e-02, -4.02334982e-03,\n",
       "        3.22132239e-03, -2.19667920e-02, -2.62850727e-02, -6.39206607e-02,\n",
       "       -6.31435911e-04, -5.22265184e-02, -1.62164036e-02, -1.87180673e-02,\n",
       "       -2.97354371e-02, -6.93679151e-03, -2.46214646e-02, -5.93537962e-02,\n",
       "        1.19572321e-02, -1.44408525e-02, -1.78455912e-02,  1.43692858e-02,\n",
       "        5.23957775e-02, -4.51786567e-03,  2.23956543e-02,  2.47629190e-02,\n",
       "        1.59640377e-02, -1.47241287e-02,  1.85495079e-02,  2.08882086e-02,\n",
       "        4.99316356e-03, -2.79507573e-02,  3.46904005e-03,  3.91402287e-02,\n",
       "       -6.98411739e-03, -2.78893804e-02, -2.72919628e-02,  9.06288321e-03,\n",
       "        1.50938500e-02,  4.70860617e-02,  7.15171939e-02,  1.36865040e-02,\n",
       "        6.60002544e-02, -4.15371410e-02, -2.88139930e-02, -2.96719940e-02,\n",
       "       -5.61221206e-03,  1.90121937e-02, -1.15529984e-02,  1.10127438e-02,\n",
       "       -4.64182761e-02,  2.52270252e-02, -1.64216552e-02, -6.65013215e-02,\n",
       "        9.56161508e-03, -1.23451604e-02, -4.87778169e-02, -3.57471452e-02,\n",
       "        5.80402819e-02, -5.16983020e-02, -2.90570883e-02,  1.38973933e-02,\n",
       "        1.78887107e-02, -5.12685372e-03,  5.60745342e-02,  1.59592091e-02,\n",
       "        1.06623366e-02, -4.70825386e-02,  5.31625083e-02, -2.75965210e-02,\n",
       "        1.68484524e-02,  2.70098040e-02,  3.69343531e-02,  2.27065402e-02,\n",
       "       -4.75209548e-02, -6.37650088e-02, -2.13532515e-02,  3.54610988e-02,\n",
       "       -5.90875553e-02, -5.61842922e-03,  3.94507651e-04,  5.29537160e-02,\n",
       "        7.67372215e-03,  5.20331493e-02, -2.92274257e-02,  1.90672751e-02,\n",
       "        5.03761094e-02,  2.43412904e-02,  4.11413395e-02, -6.66429231e-02,\n",
       "        5.59623331e-03, -1.56147610e-02, -7.29051086e-02,  2.06299927e-02,\n",
       "       -1.08525181e-02, -1.59398412e-02, -9.44311184e-03, -9.96917119e-02,\n",
       "        3.35535755e-02,  5.32053887e-03, -3.53396162e-02, -9.01517606e-03,\n",
       "        5.48011315e-02,  1.95665106e-02,  1.74343024e-02,  4.26403889e-02,\n",
       "       -4.35514845e-02,  4.07481832e-02,  2.24180015e-02,  2.68308938e-02,\n",
       "        2.52337176e-04,  2.71565630e-02, -2.73843298e-03,  3.12446346e-02,\n",
       "       -1.74884970e-02, -2.15453985e-03,  3.95847807e-03, -6.26799440e-03,\n",
       "        6.09512599e-03,  3.61777076e-02, -7.09292035e-02, -2.84453499e-03,\n",
       "       -2.46034925e-02, -5.15484176e-02,  7.34935768e-02, -8.49089901e-03,\n",
       "        5.77625257e-02, -5.98908327e-02,  5.68051564e-03, -6.44999056e-02,\n",
       "       -3.37872694e-03, -8.54555092e-03, -4.07914216e-02,  2.37885288e-03,\n",
       "        1.64198645e-02, -5.76319682e-02, -5.72183511e-02, -9.97865104e-04,\n",
       "       -7.25145471e-04,  2.59986887e-02,  2.57443402e-02,  4.40262600e-02,\n",
       "       -6.99436615e-02,  2.80977828e-02,  2.05287962e-02,  1.35875676e-02,\n",
       "       -5.48582984e-03, -1.02953243e-03, -2.52558385e-02,  6.56584141e-02,\n",
       "       -3.03126652e-03,  6.89421259e-03, -5.16673696e-03,  4.00155369e-02,\n",
       "        5.13062560e-02,  1.19099610e-02,  1.18538269e-02, -1.22847949e-02,\n",
       "       -1.02484918e-02, -6.94976397e-02, -1.87463933e-02, -3.37820398e-02,\n",
       "        2.20368801e-02, -3.56920130e-02, -6.58634173e-03, -4.43438707e-02,\n",
       "        3.45056982e-02,  1.26133451e-02,  5.71221819e-02,  1.19838053e-03,\n",
       "        2.13661765e-04,  6.21961420e-03, -1.28268775e-02,  3.47056289e-02,\n",
       "        2.64346060e-02,  3.66384333e-02,  1.95465393e-02, -3.20211812e-02,\n",
       "       -4.60879466e-02, -1.74003269e-02, -6.02713212e-02,  1.02080452e-02,\n",
       "       -1.89849827e-02,  4.94935185e-02, -1.12655352e-02,  6.59803709e-03,\n",
       "        2.86405575e-02,  3.87945303e-02,  3.84392876e-02, -4.94766097e-02,\n",
       "       -7.20275664e-02,  6.32935697e-02, -2.06079137e-02, -1.88522795e-03,\n",
       "        2.96821280e-04,  1.03234974e-02, -1.54634806e-02,  2.90032724e-02,\n",
       "        2.83944239e-02,  4.57405238e-02, -1.67890157e-02, -4.11681430e-02,\n",
       "       -7.52138593e-02,  1.36614367e-03,  5.87899693e-03,  8.19375467e-03,\n",
       "        4.69340371e-02, -2.98781984e-02, -6.09173761e-02, -2.88014383e-02,\n",
       "       -3.52725188e-02,  1.48380044e-02,  3.72771737e-03, -1.53122578e-03,\n",
       "        6.30378428e-03,  3.25125289e-03, -4.40950823e-02, -4.03767943e-02,\n",
       "        3.57669815e-03, -3.86594155e-02, -6.60817230e-02,  3.33444260e-02,\n",
       "        1.12779983e-04, -4.65012531e-02,  3.07663445e-02, -1.23179267e-02,\n",
       "        6.52301715e-02, -3.34690246e-02, -5.91139783e-03, -4.29818851e-02,\n",
       "       -2.37807392e-03, -1.54260752e-02, -6.62407800e-02, -1.28803532e-02,\n",
       "       -7.37069082e-02,  6.15814400e-03,  5.81610935e-03, -2.87894982e-02,\n",
       "        1.58957789e-02,  4.99462074e-02, -7.30678654e-02,  2.62634991e-02,\n",
       "        3.58863369e-02, -5.69123154e-04, -1.93468989e-02, -4.89658191e-02,\n",
       "       -1.41192882e-02,  5.55279573e-02, -1.23920244e-02,  4.98349853e-02,\n",
       "       -1.36430587e-02,  4.03212283e-04, -1.47666678e-02,  8.04840491e-03,\n",
       "        1.97294118e-02, -5.82475033e-02,  6.22874985e-02, -1.51380223e-02,\n",
       "       -2.24532323e-02,  4.99374504e-03, -3.98999086e-02,  4.70170573e-02,\n",
       "       -2.65905646e-02,  1.44113388e-02,  5.58043703e-03, -5.56323661e-02,\n",
       "        7.20283807e-02, -6.45532166e-02, -1.39541981e-02,  7.26183805e-02,\n",
       "       -3.27314708e-02,  8.31544613e-04,  1.18683656e-02,  1.80799737e-02,\n",
       "        2.66915898e-02, -2.10433150e-02, -4.68286137e-02, -7.55162702e-02,\n",
       "       -3.35937045e-02, -3.02777265e-02, -4.51844105e-02,  4.28266703e-03,\n",
       "       -1.05844578e-02, -7.51660261e-02,  8.13508005e-03,  5.37033915e-03,\n",
       "        5.12977606e-02,  3.06002271e-02, -6.96850596e-03,  1.40802815e-02,\n",
       "        4.93343398e-02, -1.26029495e-02, -3.10968310e-02,  3.20581961e-02,\n",
       "        2.07070834e-02,  3.91802347e-02,  6.47922818e-02,  8.38108128e-03,\n",
       "       -3.19907212e-02,  1.09177633e-02, -4.51531789e-02,  7.17429032e-02,\n",
       "        2.20127112e-02, -7.79460133e-02, -1.54124581e-02, -4.80198369e-02,\n",
       "       -3.33469682e-02, -1.86742127e-02, -2.60532641e-02, -3.55854284e-02,\n",
       "        2.72772453e-02, -2.97717535e-02,  3.16071628e-02,  2.65901906e-02,\n",
       "        2.89384077e-02, -1.49583166e-02,  6.68735261e-03, -4.29929017e-02,\n",
       "        2.19497035e-02,  1.15464785e-01,  5.23661800e-02, -5.46355295e-02,\n",
       "        1.17907124e-02,  3.94798316e-02, -9.67667957e-03, -4.42502093e-02,\n",
       "        1.58002273e-02,  3.70883633e-02,  1.20433532e-02,  1.43505961e-02,\n",
       "       -2.05851766e-02, -4.21493524e-03,  1.05909625e-02,  7.91764389e-02,\n",
       "       -2.57543138e-02, -8.79083476e-02,  2.67611049e-02,  1.99560685e-02,\n",
       "        5.70612982e-02,  3.67697995e-02,  1.09040282e-02,  6.59446077e-02,\n",
       "        2.74936201e-02,  9.45289690e-03, -5.79331113e-02,  2.64731450e-02,\n",
       "       -5.64915816e-03,  4.63617835e-02, -3.85676240e-02,  2.40106825e-02,\n",
       "        5.24805826e-02, -2.26229317e-02,  1.32889984e-02, -1.82466646e-02,\n",
       "       -3.16692860e-03, -6.21808690e-02, -1.95550963e-02, -6.53039090e-02,\n",
       "       -1.72992172e-02,  1.30700074e-02,  5.10172639e-03, -3.95757925e-02,\n",
       "        2.85126292e-02,  4.20043296e-02,  2.26669994e-02,  1.59766791e-02,\n",
       "        2.16099515e-02,  1.11022586e-02,  1.89963797e-02,  6.61171646e-03,\n",
       "       -1.08877739e-02,  3.14227901e-02, -8.95590018e-02, -2.61198635e-03,\n",
       "       -4.05921332e-02, -4.83732311e-02,  9.49809986e-03, -2.31326724e-03,\n",
       "        2.29714522e-02,  2.35849131e-02, -4.15541640e-03,  1.32552512e-02,\n",
       "        1.30682910e-02, -5.02754227e-03, -6.29493157e-02, -2.74207309e-02,\n",
       "        2.62846368e-02,  5.03933158e-02, -4.26644715e-02,  7.89220829e-02,\n",
       "       -1.64878044e-02, -2.56148843e-02, -1.06293887e-01,  1.85045217e-02,\n",
       "       -4.90981183e-02,  3.75406630e-02,  1.48693274e-02,  4.09034383e-02,\n",
       "        2.07124727e-02, -7.71456230e-02, -6.97577547e-04, -7.71403985e-02,\n",
       "       -1.91916138e-02,  1.36820612e-02, -1.55644190e-02, -1.47341644e-02,\n",
       "        4.05051048e-02, -7.71894958e-03,  5.96472651e-02,  1.10078321e-02,\n",
       "       -8.16790641e-03, -7.71487019e-02,  5.63744335e-03,  1.11676351e-02,\n",
       "       -1.55552296e-03,  6.18790827e-02, -1.07479894e-03,  1.18841601e-03,\n",
       "        5.27701656e-02,  2.01158317e-02, -3.89708247e-02,  3.53468503e-02,\n",
       "       -4.62155418e-02,  5.00400239e-02,  4.26833463e-02,  4.73525678e-02,\n",
       "       -4.50148491e-04,  1.84107685e-02, -3.53617797e-02, -3.97183405e-02,\n",
       "       -7.98793231e-03,  2.91183755e-02,  1.13036742e-01,  4.11889939e-02,\n",
       "       -6.52796831e-02, -3.84335619e-02, -7.18832946e-02,  1.36424966e-02,\n",
       "       -1.04761883e-02,  2.10344312e-03,  6.87649921e-04, -6.08495550e-02,\n",
       "        5.64058445e-03,  1.59863866e-02,  1.20532441e-02, -1.33903845e-02,\n",
       "       -6.39530231e-02,  3.32135337e-02,  4.87256420e-02,  7.17468678e-04,\n",
       "        8.59956348e-03, -3.02330689e-02,  4.31806129e-02,  1.22800128e-02,\n",
       "       -2.56067205e-02, -2.32009611e-02, -6.17651177e-03,  3.83014635e-03,\n",
       "       -2.31888381e-02, -2.19386619e-02,  1.43998038e-02,  1.54904485e-02,\n",
       "       -4.26360110e-02, -5.13970408e-03,  3.36570388e-02, -2.13613145e-02,\n",
       "       -2.31357342e-03, -1.12984355e-02,  3.88105254e-02,  8.40574966e-02,\n",
       "       -3.74848843e-02, -2.97093633e-02, -2.21090870e-02,  3.72591901e-02,\n",
       "        1.04489762e-02, -1.86295744e-02,  4.00815794e-03, -2.41948250e-02,\n",
       "       -2.04710125e-02,  5.11178186e-02, -7.87150671e-02,  7.60362967e-02,\n",
       "       -1.54228318e-02,  5.27094990e-02,  7.57437274e-03, -3.17291466e-02,\n",
       "       -7.15451797e-02, -2.96263709e-02,  4.58070899e-03, -3.19810328e-02,\n",
       "       -4.85596486e-02,  2.11638961e-03,  4.43964047e-02, -9.51594812e-03,\n",
       "       -5.49351891e-02,  5.09322158e-02, -2.11171869e-04,  1.00383774e-02,\n",
       "       -4.63206614e-03, -8.53103632e-03,  2.00178956e-02,  1.29615789e-03,\n",
       "        5.59736450e-02, -1.44975349e-02,  5.12831894e-02,  5.88526783e-02,\n",
       "       -1.25570705e-02,  4.48035081e-02, -8.17459375e-02,  5.22591137e-03,\n",
       "        5.68094831e-03,  7.84400492e-03, -3.13934688e-03, -2.98333008e-02,\n",
       "       -3.99411863e-02, -1.54368983e-02, -2.83995677e-02,  1.01811856e-02,\n",
       "        1.76437397e-02,  2.43408422e-02,  1.48228985e-02,  5.32404922e-02,\n",
       "        1.12143679e-02,  2.11831173e-02, -4.16704131e-02,  3.25315525e-03,\n",
       "        4.63378759e-02, -3.59832546e-02,  8.71266235e-03,  2.36083246e-02,\n",
       "       -2.14790476e-02, -4.77561023e-02, -3.10204933e-02, -1.20831719e-02,\n",
       "        2.82760669e-02, -2.48406785e-02,  5.23895503e-02, -1.70761472e-02,\n",
       "       -1.63153940e-02,  6.22878795e-02, -2.28770499e-02,  3.76966872e-02,\n",
       "       -5.40577751e-02, -2.51345837e-02,  2.98084408e-02, -1.28346734e-02,\n",
       "        3.54876289e-02,  2.63573123e-02,  4.43603866e-02,  5.54411461e-02,\n",
       "        1.54714492e-02, -8.28889549e-03, -1.14862533e-02, -7.38672776e-03,\n",
       "       -1.10239793e-03, -1.27494260e-02,  9.18733126e-03,  3.22960109e-02,\n",
       "        1.15272151e-02, -5.19078814e-02, -4.49155782e-02,  7.34110991e-02,\n",
       "       -4.67896630e-02, -1.28237986e-02,  4.71709692e-04, -4.59280771e-02,\n",
       "       -2.95101159e-02,  1.11378299e-02, -2.64547751e-02,  1.40559797e-02,\n",
       "       -1.87516055e-02, -1.73059634e-02, -6.19527078e-02,  2.39207341e-03,\n",
       "        4.50252714e-02,  4.50610501e-02,  1.87732701e-02,  6.46406190e-04,\n",
       "       -1.60108968e-02,  1.66160227e-02,  8.30677759e-03, -1.44156813e-02,\n",
       "       -6.45082158e-03, -6.40616691e-02, -7.72141367e-03,  1.12758715e-02,\n",
       "       -6.52161073e-02,  2.80745296e-02, -3.04635710e-02,  1.49138803e-02,\n",
       "       -3.38816159e-02, -6.96403292e-03,  2.52268927e-02, -8.62570577e-03,\n",
       "       -4.12309784e-02, -6.61471553e-03,  3.02656092e-02, -1.23357247e-01])"
      ]
     },
     "execution_count": 19,
     "metadata": {},
     "output_type": "execute_result"
    }
   ],
   "source": [
    "doc_embedding[0]"
   ]
  },
  {
   "cell_type": "code",
   "execution_count": 20,
   "id": "bb044b4e-442f-4b0b-b14c-6053bfaad738",
   "metadata": {},
   "outputs": [
    {
     "data": {
      "text/plain": [
       "768"
      ]
     },
     "execution_count": 20,
     "metadata": {},
     "output_type": "execute_result"
    }
   ],
   "source": [
    "len(doc_embedding[0])"
   ]
  },
  {
   "cell_type": "code",
   "execution_count": 23,
   "id": "7e8db191-ba68-417a-94c4-63585a349acb",
   "metadata": {},
   "outputs": [
    {
     "name": "stderr",
     "output_type": "stream",
     "text": [
      "Creating embeddings: 100%|██████████| 72/72 [00:00<00:00, 201058.51it/s]\n"
     ]
    }
   ],
   "source": [
    "for i,line in enumerate(tqdm(text_lines,desc=\"Creating embeddings\")):\n",
    "    data.append({\"id\":i,\"vector\":doc_embedding[i],\"text\":line})"
   ]
  },
  {
   "cell_type": "code",
   "execution_count": 24,
   "id": "e4e587f0-4bbc-4095-bbbe-8eb951f349b6",
   "metadata": {},
   "outputs": [
    {
     "data": {
      "text/plain": [
       "{'insert_count': 72, 'ids': [0, 1, 2, 3, 4, 5, 6, 7, 8, 9, 10, 11, 12, 13, 14, 15, 16, 17, 18, 19, 20, 21, 22, 23, 24, 25, 26, 27, 28, 29, 30, 31, 32, 33, 34, 35, 36, 37, 38, 39, 40, 41, 42, 43, 44, 45, 46, 47, 48, 49, 50, 51, 52, 53, 54, 55, 56, 57, 58, 59, 60, 61, 62, 63, 64, 65, 66, 67, 68, 69, 70, 71], 'cost': 0}"
      ]
     },
     "execution_count": 24,
     "metadata": {},
     "output_type": "execute_result"
    }
   ],
   "source": [
    "milvus_client.insert(collection_name = collection_name,data=data)"
   ]
  },
  {
   "cell_type": "code",
   "execution_count": 25,
   "id": "3c9380ec-2bcd-4384-b927-8c904a968770",
   "metadata": {},
   "outputs": [],
   "source": [
    "question = \"How is data stored in milvus?\""
   ]
  },
  {
   "cell_type": "code",
   "execution_count": 26,
   "id": "1f97af2a-acdb-49d4-8913-95b7cf7346fb",
   "metadata": {},
   "outputs": [],
   "source": [
    "search_res = milvus_client.search(\n",
    "    collection_name = collection_name,\n",
    "    data = embedding_model.encode_queries(\n",
    "        [question]\n",
    "    ),\n",
    "    limit=3,\n",
    "    search_params={\"metric_type\":\"IP\",\"params\":{}},\n",
    "    output_fields=[\"text\"]\n",
    ")"
   ]
  },
  {
   "cell_type": "code",
   "execution_count": 27,
   "id": "b3804aff-463e-4ada-b80f-6785a0a12e1d",
   "metadata": {},
   "outputs": [
    {
     "data": {
      "text/plain": [
       "data: [[{'id': 44, 'distance': 0.65726637840271, 'entity': {'text': ' Where does Milvus store data?\\n\\nMilvus deals with two types of data, inserted data and metadata. \\n\\nInserted data, including vector data, scalar data, and collection-specific schema, are stored in persistent storage as incremental log. Milvus supports multiple object storage backends, including [MinIO](https://min.io/), [AWS S3](https://aws.amazon.com/s3/?nc1=h_ls), [Google Cloud Storage](https://cloud.google.com/storage?hl=en#object-storage-for-companies-of-all-sizes) (GCS), [Azure Blob Storage](https://azure.microsoft.com/en-us/products/storage/blobs), [Alibaba Cloud OSS](https://www.alibabacloud.com/product/object-storage-service), and [Tencent Cloud Object Storage](https://www.tencentcloud.com/products/cos) (COS).\\n\\nMetadata are generated within Milvus. Each Milvus module has its own metadata that are stored in etcd.\\n\\n###'}}, {'id': 55, 'distance': 0.6312143802642822, 'entity': {'text': \"How does Milvus flush data?\\n\\nMilvus returns success when inserted data are loaded to the message queue. However, the data are not yet flushed to the disk. Then Milvus' data node writes the data in the message queue to persistent storage as incremental logs. If `flush()` is called, the data node is forced to write all data in the message queue to persistent storage immediately.\\n\\n###\"}}, {'id': 70, 'distance': 0.6115782260894775, 'entity': {'text': 'How does Milvus handle vector data types and precision?\\n\\nMilvus supports Binary, Float32, Float16, and BFloat16 vector types.\\n\\n- Binary vectors: Store binary data as sequences of 0s and 1s, used in image processing and information retrieval.\\n- Float32 vectors: Default storage with a precision of about 7 decimal digits. Even Float64 values are stored with Float32 precision, leading to potential precision loss upon retrieval.\\n- Float16 and BFloat16 vectors: Offer reduced precision and memory usage. Float16 is suitable for applications with limited bandwidth and storage, while BFloat16 balances range and efficiency, commonly used in deep learning to reduce computational requirements without significantly impacting accuracy.\\n\\n###'}}]]"
      ]
     },
     "execution_count": 27,
     "metadata": {},
     "output_type": "execute_result"
    }
   ],
   "source": [
    "search_res"
   ]
  },
  {
   "cell_type": "code",
   "execution_count": 28,
   "id": "b936f6be-a0ad-49a0-ae1c-25c4c0e6636b",
   "metadata": {},
   "outputs": [
    {
     "data": {
      "text/plain": [
       "[{'id': 44, 'distance': 0.65726637840271, 'entity': {'text': ' Where does Milvus store data?\\n\\nMilvus deals with two types of data, inserted data and metadata. \\n\\nInserted data, including vector data, scalar data, and collection-specific schema, are stored in persistent storage as incremental log. Milvus supports multiple object storage backends, including [MinIO](https://min.io/), [AWS S3](https://aws.amazon.com/s3/?nc1=h_ls), [Google Cloud Storage](https://cloud.google.com/storage?hl=en#object-storage-for-companies-of-all-sizes) (GCS), [Azure Blob Storage](https://azure.microsoft.com/en-us/products/storage/blobs), [Alibaba Cloud OSS](https://www.alibabacloud.com/product/object-storage-service), and [Tencent Cloud Object Storage](https://www.tencentcloud.com/products/cos) (COS).\\n\\nMetadata are generated within Milvus. Each Milvus module has its own metadata that are stored in etcd.\\n\\n###'}}, {'id': 55, 'distance': 0.6312143802642822, 'entity': {'text': \"How does Milvus flush data?\\n\\nMilvus returns success when inserted data are loaded to the message queue. However, the data are not yet flushed to the disk. Then Milvus' data node writes the data in the message queue to persistent storage as incremental logs. If `flush()` is called, the data node is forced to write all data in the message queue to persistent storage immediately.\\n\\n###\"}}, {'id': 70, 'distance': 0.6115782260894775, 'entity': {'text': 'How does Milvus handle vector data types and precision?\\n\\nMilvus supports Binary, Float32, Float16, and BFloat16 vector types.\\n\\n- Binary vectors: Store binary data as sequences of 0s and 1s, used in image processing and information retrieval.\\n- Float32 vectors: Default storage with a precision of about 7 decimal digits. Even Float64 values are stored with Float32 precision, leading to potential precision loss upon retrieval.\\n- Float16 and BFloat16 vectors: Offer reduced precision and memory usage. Float16 is suitable for applications with limited bandwidth and storage, while BFloat16 balances range and efficiency, commonly used in deep learning to reduce computational requirements without significantly impacting accuracy.\\n\\n###'}}]"
      ]
     },
     "execution_count": 28,
     "metadata": {},
     "output_type": "execute_result"
    }
   ],
   "source": [
    "search_res[0]"
   ]
  },
  {
   "cell_type": "code",
   "execution_count": 35,
   "id": "93336d3e-99d4-4bd0-8cde-e44b13c1e85f",
   "metadata": {},
   "outputs": [],
   "source": [
    "import json\n",
    "\n",
    "retrieved_lines_with_distances = [(res[\"entity\"][\"text\"],res[\"distance\"]) for res in search_res[0]]"
   ]
  },
  {
   "cell_type": "code",
   "execution_count": 37,
   "id": "19869281-c525-4b75-a55d-4e6d01321943",
   "metadata": {},
   "outputs": [
    {
     "name": "stdout",
     "output_type": "stream",
     "text": [
      "[\n",
      "    [\n",
      "        \" Where does Milvus store data?\\n\\nMilvus deals with two types of data, inserted data and metadata. \\n\\nInserted data, including vector data, scalar data, and collection-specific schema, are stored in persistent storage as incremental log. Milvus supports multiple object storage backends, including [MinIO](https://min.io/), [AWS S3](https://aws.amazon.com/s3/?nc1=h_ls), [Google Cloud Storage](https://cloud.google.com/storage?hl=en#object-storage-for-companies-of-all-sizes) (GCS), [Azure Blob Storage](https://azure.microsoft.com/en-us/products/storage/blobs), [Alibaba Cloud OSS](https://www.alibabacloud.com/product/object-storage-service), and [Tencent Cloud Object Storage](https://www.tencentcloud.com/products/cos) (COS).\\n\\nMetadata are generated within Milvus. Each Milvus module has its own metadata that are stored in etcd.\\n\\n###\",\n",
      "        0.65726637840271\n",
      "    ],\n",
      "    [\n",
      "        \"How does Milvus flush data?\\n\\nMilvus returns success when inserted data are loaded to the message queue. However, the data are not yet flushed to the disk. Then Milvus' data node writes the data in the message queue to persistent storage as incremental logs. If `flush()` is called, the data node is forced to write all data in the message queue to persistent storage immediately.\\n\\n###\",\n",
      "        0.6312143802642822\n",
      "    ],\n",
      "    [\n",
      "        \"How does Milvus handle vector data types and precision?\\n\\nMilvus supports Binary, Float32, Float16, and BFloat16 vector types.\\n\\n- Binary vectors: Store binary data as sequences of 0s and 1s, used in image processing and information retrieval.\\n- Float32 vectors: Default storage with a precision of about 7 decimal digits. Even Float64 values are stored with Float32 precision, leading to potential precision loss upon retrieval.\\n- Float16 and BFloat16 vectors: Offer reduced precision and memory usage. Float16 is suitable for applications with limited bandwidth and storage, while BFloat16 balances range and efficiency, commonly used in deep learning to reduce computational requirements without significantly impacting accuracy.\\n\\n###\",\n",
      "        0.6115782260894775\n",
      "    ]\n",
      "]\n"
     ]
    }
   ],
   "source": [
    "print(json.dumps(retrieved_lines_with_distances,indent=4))"
   ]
  },
  {
   "cell_type": "code",
   "execution_count": 39,
   "id": "629e3dc5-1f16-4110-887b-c6e98110bfa2",
   "metadata": {},
   "outputs": [],
   "source": [
    "context = \"\\n\".join(\n",
    "    [line_with_distance[0] for line_with_distance in retrieved_lines_with_distances]\n",
    ")\n"
   ]
  },
  {
   "cell_type": "code",
   "execution_count": 40,
   "id": "ceca775c-5a14-498c-80f7-cb12f64acb79",
   "metadata": {},
   "outputs": [
    {
     "data": {
      "text/plain": [
       "\" Where does Milvus store data?\\n\\nMilvus deals with two types of data, inserted data and metadata. \\n\\nInserted data, including vector data, scalar data, and collection-specific schema, are stored in persistent storage as incremental log. Milvus supports multiple object storage backends, including [MinIO](https://min.io/), [AWS S3](https://aws.amazon.com/s3/?nc1=h_ls), [Google Cloud Storage](https://cloud.google.com/storage?hl=en#object-storage-for-companies-of-all-sizes) (GCS), [Azure Blob Storage](https://azure.microsoft.com/en-us/products/storage/blobs), [Alibaba Cloud OSS](https://www.alibabacloud.com/product/object-storage-service), and [Tencent Cloud Object Storage](https://www.tencentcloud.com/products/cos) (COS).\\n\\nMetadata are generated within Milvus. Each Milvus module has its own metadata that are stored in etcd.\\n\\n###\\nHow does Milvus flush data?\\n\\nMilvus returns success when inserted data are loaded to the message queue. However, the data are not yet flushed to the disk. Then Milvus' data node writes the data in the message queue to persistent storage as incremental logs. If `flush()` is called, the data node is forced to write all data in the message queue to persistent storage immediately.\\n\\n###\\nHow does Milvus handle vector data types and precision?\\n\\nMilvus supports Binary, Float32, Float16, and BFloat16 vector types.\\n\\n- Binary vectors: Store binary data as sequences of 0s and 1s, used in image processing and information retrieval.\\n- Float32 vectors: Default storage with a precision of about 7 decimal digits. Even Float64 values are stored with Float32 precision, leading to potential precision loss upon retrieval.\\n- Float16 and BFloat16 vectors: Offer reduced precision and memory usage. Float16 is suitable for applications with limited bandwidth and storage, while BFloat16 balances range and efficiency, commonly used in deep learning to reduce computational requirements without significantly impacting accuracy.\\n\\n###\""
      ]
     },
     "execution_count": 40,
     "metadata": {},
     "output_type": "execute_result"
    }
   ],
   "source": [
    "context"
   ]
  },
  {
   "cell_type": "code",
   "execution_count": 41,
   "id": "9a02b19a-0d35-44d5-85c3-e591cd539249",
   "metadata": {},
   "outputs": [],
   "source": [
    "\n",
    "SYSTEM_PROMPT = \"\"\"\n",
    "Human: 你是一个 AI 助手。你能够从提供的上下文段落片段中找到问题的答案。\n",
    "\"\"\"\n",
    "USER_PROMPT = f\"\"\"\n",
    "请使用以下用 <context> 标签括起来的信息片段来回答用 <question> 标签括起来的问题。最后追加原始回答的中文翻译，并用 <translated>和</translated> 标签标注。\n",
    "<context>\n",
    "{context}\n",
    "</context>\n",
    "<question>\n",
    "{question}\n",
    "</question>\n",
    "<translated>\n",
    "</translated>\n",
    "\"\"\""
   ]
  },
  {
   "cell_type": "code",
   "execution_count": 42,
   "id": "45138d94-a14f-4bbe-bfb3-dc25edef07c4",
   "metadata": {},
   "outputs": [
    {
     "data": {
      "text/plain": [
       "\"\\n请使用以下用 <context> 标签括起来的信息片段来回答用 <question> 标签括起来的问题。最后追加原始回答的中文翻译，并用 <translated>和</translated> 标签标注。\\n<context>\\n Where does Milvus store data?\\n\\nMilvus deals with two types of data, inserted data and metadata. \\n\\nInserted data, including vector data, scalar data, and collection-specific schema, are stored in persistent storage as incremental log. Milvus supports multiple object storage backends, including [MinIO](https://min.io/), [AWS S3](https://aws.amazon.com/s3/?nc1=h_ls), [Google Cloud Storage](https://cloud.google.com/storage?hl=en#object-storage-for-companies-of-all-sizes) (GCS), [Azure Blob Storage](https://azure.microsoft.com/en-us/products/storage/blobs), [Alibaba Cloud OSS](https://www.alibabacloud.com/product/object-storage-service), and [Tencent Cloud Object Storage](https://www.tencentcloud.com/products/cos) (COS).\\n\\nMetadata are generated within Milvus. Each Milvus module has its own metadata that are stored in etcd.\\n\\n###\\nHow does Milvus flush data?\\n\\nMilvus returns success when inserted data are loaded to the message queue. However, the data are not yet flushed to the disk. Then Milvus' data node writes the data in the message queue to persistent storage as incremental logs. If `flush()` is called, the data node is forced to write all data in the message queue to persistent storage immediately.\\n\\n###\\nHow does Milvus handle vector data types and precision?\\n\\nMilvus supports Binary, Float32, Float16, and BFloat16 vector types.\\n\\n- Binary vectors: Store binary data as sequences of 0s and 1s, used in image processing and information retrieval.\\n- Float32 vectors: Default storage with a precision of about 7 decimal digits. Even Float64 values are stored with Float32 precision, leading to potential precision loss upon retrieval.\\n- Float16 and BFloat16 vectors: Offer reduced precision and memory usage. Float16 is suitable for applications with limited bandwidth and storage, while BFloat16 balances range and efficiency, commonly used in deep learning to reduce computational requirements without significantly impacting accuracy.\\n\\n###\\n</context>\\n<question>\\nHow is data stored in milvus?\\n</question>\\n<translated>\\n</translated>\\n\""
      ]
     },
     "execution_count": 42,
     "metadata": {},
     "output_type": "execute_result"
    }
   ],
   "source": [
    "USER_PROMPT"
   ]
  },
  {
   "cell_type": "code",
   "execution_count": 43,
   "id": "72c4230a-cf90-482c-97f2-cd5ffca87e89",
   "metadata": {},
   "outputs": [],
   "source": [
    "response = client.chat.completions.create(\n",
    "    model = \"deepseek-chat\",\n",
    "    messages = [\n",
    "        {\"role\":\"system\",\"content\":SYSTEM_PROMPT},\n",
    "        {\"role\":\"user\",\"content\":USER_PROMPT}\n",
    "    ]\n",
    ")"
   ]
  },
  {
   "cell_type": "code",
   "execution_count": 47,
   "id": "0345d1f7-2566-4823-8ef4-c1db123ed373",
   "metadata": {},
   "outputs": [
    {
     "name": "stdout",
     "output_type": "stream",
     "text": [
      "Milvus stores data in two main categories: inserted data and metadata.\n",
      "\n",
      "1. **Inserted Data** (including vector data, scalar data, and collection schemas) is stored as incremental logs in persistent storage. Supported storage backends include:\n",
      "   - MinIO\n",
      "   - AWS S3  \n",
      "   - Google Cloud Storage (GCS)\n",
      "   - Azure Blob Storage\n",
      "   - Alibaba Cloud OSS\n",
      "   - Tencent Cloud Object Storage (COS)\n",
      "\n",
      "2. **Metadata** (generated internally by Milvus modules) is stored in etcd.\n",
      "\n",
      "The data flushing process involves:\n",
      "- Initial insertion success when data reaches the message queue\n",
      "- Data nodes later writing the queued data to persistent storage\n",
      "- Immediate flushing when `flush()` is called\n",
      "\n",
      "<translated>\n",
      "Milvus以两种主要类型存储数据：插入数据和元数据。\n",
      "\n",
      "1. **插入数据**（包括向量数据、标量数据和集合模式）以增量日志形式存储在持久化存储中，支持的存储后端包括：\n",
      "   - MinIO\n",
      "   - AWS S3\n",
      "   - 谷歌云存储(GCS)\n",
      "   - Azure Blob存储\n",
      "   - 阿里云OSS\n",
      "   - 腾讯云对象存储(COS)\n",
      "\n",
      "2. **元数据**（由Milvus模块内部生成）存储在etcd中。\n",
      "\n",
      "数据刷新流程：\n",
      "- 数据到达消息队列时返回插入成功\n",
      "- 数据节点随后将队列数据写入持久化存储\n",
      "- 调用`flush()`时立即强制刷新\n",
      "</translated>\n"
     ]
    }
   ],
   "source": [
    "print(response.choices[0].message.content)"
   ]
  },
  {
   "cell_type": "code",
   "execution_count": 48,
   "id": "df5c98ab-83df-4b11-9d2e-68f2151137ca",
   "metadata": {},
   "outputs": [],
   "source": [
    "question1 = \"Why do I get fewer than k vectors when searching for `topk` vectors?\""
   ]
  },
  {
   "cell_type": "code",
   "execution_count": 49,
   "id": "6d60c5d0-cb90-49da-a137-0c7ed049b7fd",
   "metadata": {},
   "outputs": [],
   "source": [
    "search_res1 = milvus_client.search(\n",
    "    collection_name = collection_name,\n",
    "    data = embedding_model.encode_queries(\n",
    "        [question1]\n",
    "    ),\n",
    "    limit=3,\n",
    "    search_params={\"metric_type\":\"IP\",\"params\":{}},\n",
    "    output_fields=[\"text\"]\n",
    ")"
   ]
  },
  {
   "cell_type": "code",
   "execution_count": 50,
   "id": "e6c1755f-85ea-4482-973d-d509834dde21",
   "metadata": {},
   "outputs": [],
   "source": [
    "import json\n",
    "\n",
    "retrieved_lines_with_distances1 = [(res[\"entity\"][\"text\"],res[\"distance\"]) for res in search_res1[0]]"
   ]
  },
  {
   "cell_type": "code",
   "execution_count": 52,
   "id": "1a350ad1-51c4-4bd3-b506-8b88e8bfd473",
   "metadata": {},
   "outputs": [
    {
     "name": "stdout",
     "output_type": "stream",
     "text": [
      "[\n",
      "    [\n",
      "        \"Why do I get fewer than k vectors when searching for `topk` vectors?\\n\\nAmong the indexes that Milvus supports, IVF_FLAT and IVF_SQ8 implement the k-means clustering method. A data space is divided into `nlist` clusters and the inserted vectors are distributed to these clusters. Milvus then selects the `nprobe` nearest clusters and compares the distances between the target vector and all vectors in the selected clusters to return the final results.\\n\\nIf `nlist` and `topk` are large and nprobe is small, the number of vectors in the nprobe clusters may be less than `k`. Therefore, when you search for the `topk` nearest vectors, the number of returned vectors is less than `k`.\\n\\nTo avoid this, try setting `nprobe` larger and `nlist` and `k` smaller.\\n\\nSee [Vector Index](index.md) for more information.\\n\\n###\",\n",
      "        0.7132164239883423\n",
      "    ],\n",
      "    [\n",
      "        \"Why is there no vector data in etcd?\\n\\netcd stores Milvus module metadata; MinIO stores entities.\\n\\n###\",\n",
      "        0.3690532445907593\n",
      "    ],\n",
      "    [\n",
      "        \"---\\nid: product_faq.md\\nsummary: Find answers to frequently asked questions about the world's most advanced vector database.\\ntitle: Product FAQ\\n---\\n\\n\",\n",
      "        0.34818005561828613\n",
      "    ]\n",
      "]\n"
     ]
    }
   ],
   "source": [
    "print(json.dumps(retrieved_lines_with_distances1,indent=4))"
   ]
  },
  {
   "cell_type": "code",
   "execution_count": 52,
   "id": "3d277ad5-1915-4706-9c86-98038598fb23",
   "metadata": {},
   "outputs": [
    {
     "name": "stdout",
     "output_type": "stream",
     "text": [
      "[\n",
      "    [\n",
      "        \"Why do I get fewer than k vectors when searching for `topk` vectors?\\n\\nAmong the indexes that Milvus supports, IVF_FLAT and IVF_SQ8 implement the k-means clustering method. A data space is divided into `nlist` clusters and the inserted vectors are distributed to these clusters. Milvus then selects the `nprobe` nearest clusters and compares the distances between the target vector and all vectors in the selected clusters to return the final results.\\n\\nIf `nlist` and `topk` are large and nprobe is small, the number of vectors in the nprobe clusters may be less than `k`. Therefore, when you search for the `topk` nearest vectors, the number of returned vectors is less than `k`.\\n\\nTo avoid this, try setting `nprobe` larger and `nlist` and `k` smaller.\\n\\nSee [Vector Index](index.md) for more information.\\n\\n###\",\n",
      "        0.7132164239883423\n",
      "    ],\n",
      "    [\n",
      "        \"Why is there no vector data in etcd?\\n\\netcd stores Milvus module metadata; MinIO stores entities.\\n\\n###\",\n",
      "        0.3690532445907593\n",
      "    ],\n",
      "    [\n",
      "        \"---\\nid: product_faq.md\\nsummary: Find answers to frequently asked questions about the world's most advanced vector database.\\ntitle: Product FAQ\\n---\\n\\n\",\n",
      "        0.34818005561828613\n",
      "    ]\n",
      "]\n"
     ]
    }
   ],
   "source": [
    "print(json.dumps(retrieved_lines_with_distances1,indent=4))"
   ]
  },
  {
   "cell_type": "code",
   "execution_count": 60,
   "id": "1339167d-491c-4fac-892c-1fbb00de8d74",
   "metadata": {},
   "outputs": [],
   "source": [
    "context1 = \"\\n\".join(\n",
    "    [line_with_distance[0] for line_with_distance in retrieved_lines_with_distances1]\n",
    ")"
   ]
  },
  {
   "cell_type": "code",
   "execution_count": 61,
   "id": "544769be-c0f0-4053-9a89-e0307c4a9e43",
   "metadata": {},
   "outputs": [
    {
     "data": {
      "text/plain": [
       "\"Why do I get fewer than k vectors when searching for `topk` vectors?\\n\\nAmong the indexes that Milvus supports, IVF_FLAT and IVF_SQ8 implement the k-means clustering method. A data space is divided into `nlist` clusters and the inserted vectors are distributed to these clusters. Milvus then selects the `nprobe` nearest clusters and compares the distances between the target vector and all vectors in the selected clusters to return the final results.\\n\\nIf `nlist` and `topk` are large and nprobe is small, the number of vectors in the nprobe clusters may be less than `k`. Therefore, when you search for the `topk` nearest vectors, the number of returned vectors is less than `k`.\\n\\nTo avoid this, try setting `nprobe` larger and `nlist` and `k` smaller.\\n\\nSee [Vector Index](index.md) for more information.\\n\\n###\\nWhy is there no vector data in etcd?\\n\\netcd stores Milvus module metadata; MinIO stores entities.\\n\\n###\\n---\\nid: product_faq.md\\nsummary: Find answers to frequently asked questions about the world's most advanced vector database.\\ntitle: Product FAQ\\n---\\n\\n\""
      ]
     },
     "execution_count": 61,
     "metadata": {},
     "output_type": "execute_result"
    }
   ],
   "source": [
    "context1"
   ]
  },
  {
   "cell_type": "code",
   "execution_count": 62,
   "id": "ab9c4fad-fed1-45ff-a203-671fa72e933f",
   "metadata": {},
   "outputs": [],
   "source": [
    "SYSTEM_PROMPT = \"\"\"\n",
    "Human: 你是一个 AI 助手。你能够从提供的上下文段落片段中找到问题的答案。\n",
    "\"\"\"\n",
    "USER_PROMPT = f\"\"\"\n",
    "请使用以下用 <context> 标签括起来的信息片段来回答用 <question> 标签括起来的问题。最后追加原始回答的中文翻译，并用 <translated>和</translated> 标签标注。\n",
    "<context>\n",
    "{context1}\n",
    "</context>\n",
    "<question>\n",
    "{question1}\n",
    "</question>\n",
    "<translated>\n",
    "</translated>\n",
    "\"\"\""
   ]
  },
  {
   "cell_type": "code",
   "execution_count": 63,
   "id": "0004ff53-a3d7-4111-8225-0203146e45ed",
   "metadata": {},
   "outputs": [],
   "source": [
    "response1 = client.chat.completions.create(\n",
    "    model = \"deepseek-chat\",\n",
    "    messages = [\n",
    "        {\"role\":\"system\",\"content\":SYSTEM_PROMPT},\n",
    "        {\"role\":\"user\",\"content\":USER_PROMPT}\n",
    "    ]\n",
    ")"
   ]
  },
  {
   "cell_type": "code",
   "execution_count": 64,
   "id": "52282b2f-5e23-4a84-a418-4e03afc9a078",
   "metadata": {},
   "outputs": [
    {
     "name": "stdout",
     "output_type": "stream",
     "text": [
      "The reason you get fewer than k vectors when searching for `topk` vectors is related to how IVF_FLAT and IVF_SQ8 indexes work in Milvus. These indexes use k-means clustering to divide the data space into `nlist` clusters. When searching, Milvus selects the `nprobe` nearest clusters and compares the target vector with all vectors in those clusters. \n",
      "\n",
      "If `nlist` and `topk` are large while `nprobe` is small, the number of vectors in the selected `nprobe` clusters may be less than `k`. As a result, the search returns fewer than `k` vectors. \n",
      "\n",
      "To avoid this issue, you can try increasing `nprobe` or reducing `nlist` and `k`.\n",
      "\n",
      "<translated>\n",
      "当搜索 `topk` 向量时返回的向量数量少于 `k` 的原因与 Milvus 中 IVF_FLAT 和 IVF_SQ8 索引的工作原理有关。这些索引使用 k-means 聚类方法将数据空间划分为 `nlist` 个聚类。搜索时，Milvus 会选择 `nprobe` 个最近的聚类，并将目标向量与这些聚类中的所有向量进行比较。\n",
      "\n",
      "如果 `nlist` 和 `topk` 设置得较大，而 `nprobe` 设置得较小，选中的 `nprobe` 个聚类中的向量数量可能少于 `k`。因此，搜索返回的向量数量会少于 `k`。\n",
      "\n",
      "为了避免这个问题，可以尝试增大 `nprobe` 或减小 `nlist` 和 `k`。\n",
      "</translated>\n"
     ]
    }
   ],
   "source": [
    "print(response1.choices[0].message.content)"
   ]
  },
  {
   "cell_type": "code",
   "execution_count": null,
   "id": "6dd4a955-615f-4762-9cbe-a751cdb03a89",
   "metadata": {},
   "outputs": [],
   "source": []
  }
 ],
 "metadata": {
  "kernelspec": {
   "display_name": "deepseek",
   "language": "python",
   "name": "deepseek"
  },
  "language_info": {
   "codemirror_mode": {
    "name": "ipython",
    "version": 3
   },
   "file_extension": ".py",
   "mimetype": "text/x-python",
   "name": "python",
   "nbconvert_exporter": "python",
   "pygments_lexer": "ipython3",
   "version": "3.13.5"
  }
 },
 "nbformat": 4,
 "nbformat_minor": 5
}
