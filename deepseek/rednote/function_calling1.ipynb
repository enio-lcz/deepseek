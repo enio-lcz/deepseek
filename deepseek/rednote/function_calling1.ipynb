{
 "cells": [
  {
   "cell_type": "code",
   "execution_count": 1,
   "id": "a68a55a0-cd9b-4600-801d-7f0f1b845fa6",
   "metadata": {},
   "outputs": [],
   "source": [
    "import os\n",
    "from openai import OpenAI"
   ]
  },
  {
   "cell_type": "code",
   "execution_count": 2,
   "id": "524dc7cf-3703-4b18-9b28-569d76783215",
   "metadata": {},
   "outputs": [],
   "source": [
    "os.environ[\"DEEPSEEK_API_KEY\"] = \"sk-63766b74ea2345a88dc23592e45cf296\"\n",
    "os.environ['http_proxy'] = 'http://127.0.0.1:15732'\n",
    "os.environ['https_proxy'] = 'http://127.0.0.1:15732'"
   ]
  },
  {
   "cell_type": "code",
   "execution_count": 3,
   "id": "779a8a9c-0632-496e-b6b9-407e4b2cc7a8",
   "metadata": {},
   "outputs": [],
   "source": [
    "api_key = os.getenv(\"DEEPSEEK_API_KEY\")\n",
    "if not api_key:\n",
    "    raise ValueError(\"请设置DEEPSEEK_API_KEY\")"
   ]
  },
  {
   "cell_type": "code",
   "execution_count": 4,
   "id": "3de5f9e9-dcb5-489f-8180-c7f6b0db9918",
   "metadata": {},
   "outputs": [],
   "source": [
    "client = OpenAI(\n",
    "    api_key=api_key,\n",
    "    base_url=\"https://api.deepseek.com/v1\"\n",
    ")"
   ]
  },
  {
   "cell_type": "code",
   "execution_count": 5,
   "id": "f602b875-2580-4548-b2ba-18e25915bde3",
   "metadata": {},
   "outputs": [],
   "source": [
    "def send_messages(messages):\n",
    "    response=client.chat.completions.create(\n",
    "        model=\"deepseek-chat\",\n",
    "        messages=messages,\n",
    "        tools=tools\n",
    "    )\n",
    "    return response.choices[0].message"
   ]
  },
  {
   "cell_type": "code",
   "execution_count": 6,
   "id": "ca66e464-b1ce-4422-984c-e39a16323d55",
   "metadata": {},
   "outputs": [],
   "source": [
    "tools = [\n",
    "    {\n",
    "        \"type\":\"function\",\n",
    "        \"function\":{\n",
    "            \"name\":\"get_weather\",\n",
    "            \"description\":\"Get weather of an location,the user shoud supply a location first\",\n",
    "            \"parameters\":{\n",
    "                \"type\":\"object\",\n",
    "                \"properties\":{\n",
    "                    \"location\":{\n",
    "                        \"type\":\"string\",\n",
    "                        \"description\":\"The city and state,e.g. San Francisco, CA\",\n",
    "                    }\n",
    "                },\n",
    "                \"required\":[\"location\"]\n",
    "            }\n",
    "        }\n",
    "    }\n",
    "]"
   ]
  },
  {
   "cell_type": "code",
   "execution_count": 7,
   "id": "4e3e7481-ceee-45e5-81ab-c2b7a3278f7c",
   "metadata": {},
   "outputs": [],
   "source": [
    "messages = [{\"role\":\"user\",\"content\":\"How's the weather in Hangzhou?\"}]\n",
    "message = send_messages(messages)"
   ]
  },
  {
   "cell_type": "code",
   "execution_count": 8,
   "id": "8b700c00-c0ef-4f8a-9c7c-c2adbab60705",
   "metadata": {},
   "outputs": [
    {
     "name": "stdout",
     "output_type": "stream",
     "text": [
      "User>\t How's the weather in Hangzhou?\n"
     ]
    }
   ],
   "source": [
    "print(f\"User>\\t {messages[0]['content']}\")"
   ]
  },
  {
   "cell_type": "code",
   "execution_count": 9,
   "id": "c6815b60-3e46-4195-8389-dba0d81d673d",
   "metadata": {},
   "outputs": [
    {
     "data": {
      "text/plain": [
       "ChatCompletionMessage(content='', refusal=None, role='assistant', annotations=None, audio=None, function_call=None, tool_calls=[ChatCompletionMessageToolCall(id='call_0_e1191795-fdd3-485f-8e2d-d75d09352ef4', function=Function(arguments='{\"location\":\"Hangzhou\"}', name='get_weather'), type='function', index=0)])"
      ]
     },
     "execution_count": 9,
     "metadata": {},
     "output_type": "execute_result"
    }
   ],
   "source": [
    "message"
   ]
  },
  {
   "cell_type": "code",
   "execution_count": 10,
   "id": "c888d34d-39a8-452a-b0d9-6e5d87e53f2e",
   "metadata": {},
   "outputs": [],
   "source": [
    "tool = message.tool_calls[0]"
   ]
  },
  {
   "cell_type": "code",
   "execution_count": 11,
   "id": "0b8530ef-0edd-4e43-9ab4-f18caace1b5d",
   "metadata": {},
   "outputs": [
    {
     "data": {
      "text/plain": [
       "ChatCompletionMessageToolCall(id='call_0_e1191795-fdd3-485f-8e2d-d75d09352ef4', function=Function(arguments='{\"location\":\"Hangzhou\"}', name='get_weather'), type='function', index=0)"
      ]
     },
     "execution_count": 11,
     "metadata": {},
     "output_type": "execute_result"
    }
   ],
   "source": [
    "tool"
   ]
  },
  {
   "cell_type": "code",
   "execution_count": 12,
   "id": "f5891a7d-90e5-4454-bc66-dd9685c9d63e",
   "metadata": {},
   "outputs": [],
   "source": [
    "messages.append(message)"
   ]
  },
  {
   "cell_type": "code",
   "execution_count": 13,
   "id": "ab9d673a-ec11-48e9-954e-d504f9fe2ef2",
   "metadata": {},
   "outputs": [
    {
     "data": {
      "text/plain": [
       "[{'role': 'user', 'content': \"How's the weather in Hangzhou?\"},\n",
       " ChatCompletionMessage(content='', refusal=None, role='assistant', annotations=None, audio=None, function_call=None, tool_calls=[ChatCompletionMessageToolCall(id='call_0_e1191795-fdd3-485f-8e2d-d75d09352ef4', function=Function(arguments='{\"location\":\"Hangzhou\"}', name='get_weather'), type='function', index=0)])]"
      ]
     },
     "execution_count": 13,
     "metadata": {},
     "output_type": "execute_result"
    }
   ],
   "source": [
    "messages"
   ]
  },
  {
   "cell_type": "code",
   "execution_count": 14,
   "id": "0316ca17-966d-4954-a031-cd3272b33012",
   "metadata": {},
   "outputs": [],
   "source": [
    "messages.append({\"role\":\"tool\",\"tool_call_id\":tool.id,\"content\":\"24°C\"})\n",
    "res = send_messages(messages)"
   ]
  },
  {
   "cell_type": "code",
   "execution_count": 15,
   "id": "7e4b228c-f568-4709-aab7-4b7db2eb2772",
   "metadata": {},
   "outputs": [
    {
     "data": {
      "text/plain": [
       "[{'role': 'user', 'content': \"How's the weather in Hangzhou?\"},\n",
       " ChatCompletionMessage(content='', refusal=None, role='assistant', annotations=None, audio=None, function_call=None, tool_calls=[ChatCompletionMessageToolCall(id='call_0_e1191795-fdd3-485f-8e2d-d75d09352ef4', function=Function(arguments='{\"location\":\"Hangzhou\"}', name='get_weather'), type='function', index=0)]),\n",
       " {'role': 'tool',\n",
       "  'tool_call_id': 'call_0_e1191795-fdd3-485f-8e2d-d75d09352ef4',\n",
       "  'content': '24°C'}]"
      ]
     },
     "execution_count": 15,
     "metadata": {},
     "output_type": "execute_result"
    }
   ],
   "source": [
    "messages"
   ]
  },
  {
   "cell_type": "code",
   "execution_count": 16,
   "id": "62745299-7325-4aca-a839-901fd9c4c677",
   "metadata": {},
   "outputs": [
    {
     "data": {
      "text/plain": [
       "ChatCompletionMessage(content=\"The current temperature in Hangzhou is 24°C. Let me know if you'd like more details!\", refusal=None, role='assistant', annotations=None, audio=None, function_call=None, tool_calls=None)"
      ]
     },
     "execution_count": 16,
     "metadata": {},
     "output_type": "execute_result"
    }
   ],
   "source": [
    "res"
   ]
  },
  {
   "cell_type": "code",
   "execution_count": 17,
   "id": "629a4d05-e99d-44e8-ba4a-c0b619db58ee",
   "metadata": {},
   "outputs": [
    {
     "name": "stdout",
     "output_type": "stream",
     "text": [
      "Model>\t The current temperature in Hangzhou is 24°C. Let me know if you'd like more details!\n"
     ]
    }
   ],
   "source": [
    "print(f\"Model>\\t {res.content}\")"
   ]
  },
  {
   "cell_type": "code",
   "execution_count": null,
   "id": "f52e8e43-de83-4fd7-b3ba-70d5658acda7",
   "metadata": {},
   "outputs": [],
   "source": []
  }
 ],
 "metadata": {
  "kernelspec": {
   "display_name": "deepseek",
   "language": "python",
   "name": "deepseek"
  },
  "language_info": {
   "codemirror_mode": {
    "name": "ipython",
    "version": 3
   },
   "file_extension": ".py",
   "mimetype": "text/x-python",
   "name": "python",
   "nbconvert_exporter": "python",
   "pygments_lexer": "ipython3",
   "version": "3.13.5"
  }
 },
 "nbformat": 4,
 "nbformat_minor": 5
}
